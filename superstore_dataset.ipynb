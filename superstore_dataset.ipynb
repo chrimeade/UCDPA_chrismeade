{
  "nbformat": 4,
  "nbformat_minor": 0,
  "metadata": {
    "colab": {
      "provenance": [],
      "authorship_tag": "ABX9TyN626PTsPQJ7AyMGYBGdnuO",
      "include_colab_link": true
    },
    "kernelspec": {
      "name": "python3",
      "display_name": "Python 3"
    },
    "language_info": {
      "name": "python"
    }
  },
  "cells": [
    {
      "cell_type": "markdown",
      "metadata": {
        "id": "view-in-github",
        "colab_type": "text"
      },
      "source": [
        "<a href=\"https://colab.research.google.com/github/chrimeade/UCDPA_chrismeade/blob/main/superstore_dataset.ipynb\" target=\"_parent\"><img src=\"https://colab.research.google.com/assets/colab-badge.svg\" alt=\"Open In Colab\"/></a>"
      ]
    },
    {
      "cell_type": "code",
      "execution_count": 1,
      "metadata": {
        "id": "2t07p5xWUf0I"
      },
      "outputs": [],
      "source": [
        "import pandas as pd"
      ]
    },
    {
      "cell_type": "code",
      "source": [
        "sales_df = pd.read_csv('SampleSuperstore.csv')\n",
        "sales_df.head()"
      ],
      "metadata": {
        "colab": {
          "base_uri": "https://localhost:8080/",
          "height": 204
        },
        "id": "Yv1ymMvAUqUy",
        "outputId": "c42d0fe1-a2d2-4bb1-ecc9-416b543326a6"
      },
      "execution_count": 2,
      "outputs": [
        {
          "output_type": "execute_result",
          "data": {
            "text/plain": [
              "        Ship Mode    Segment        Country             City       State  \\\n",
              "0    Second Class   Consumer  United States        Henderson    Kentucky   \n",
              "1    Second Class   Consumer  United States        Henderson    Kentucky   \n",
              "2    Second Class  Corporate  United States      Los Angeles  California   \n",
              "3  Standard Class   Consumer  United States  Fort Lauderdale     Florida   \n",
              "4  Standard Class   Consumer  United States  Fort Lauderdale     Florida   \n",
              "\n",
              "   Postal Code Region         Category Sub-Category     Sales  Quantity  \\\n",
              "0        42420  South        Furniture    Bookcases  261.9600         2   \n",
              "1        42420  South        Furniture       Chairs  731.9400         3   \n",
              "2        90036   West  Office Supplies       Labels   14.6200         2   \n",
              "3        33311  South        Furniture       Tables  957.5775         5   \n",
              "4        33311  South  Office Supplies      Storage   22.3680         2   \n",
              "\n",
              "   Discount    Profit  \n",
              "0      0.00   41.9136  \n",
              "1      0.00  219.5820  \n",
              "2      0.00    6.8714  \n",
              "3      0.45 -383.0310  \n",
              "4      0.20    2.5164  "
            ],
            "text/html": [
              "\n",
              "  <div id=\"df-1b580f52-11d4-4b74-a06a-98a94956bfd3\">\n",
              "    <div class=\"colab-df-container\">\n",
              "      <div>\n",
              "<style scoped>\n",
              "    .dataframe tbody tr th:only-of-type {\n",
              "        vertical-align: middle;\n",
              "    }\n",
              "\n",
              "    .dataframe tbody tr th {\n",
              "        vertical-align: top;\n",
              "    }\n",
              "\n",
              "    .dataframe thead th {\n",
              "        text-align: right;\n",
              "    }\n",
              "</style>\n",
              "<table border=\"1\" class=\"dataframe\">\n",
              "  <thead>\n",
              "    <tr style=\"text-align: right;\">\n",
              "      <th></th>\n",
              "      <th>Ship Mode</th>\n",
              "      <th>Segment</th>\n",
              "      <th>Country</th>\n",
              "      <th>City</th>\n",
              "      <th>State</th>\n",
              "      <th>Postal Code</th>\n",
              "      <th>Region</th>\n",
              "      <th>Category</th>\n",
              "      <th>Sub-Category</th>\n",
              "      <th>Sales</th>\n",
              "      <th>Quantity</th>\n",
              "      <th>Discount</th>\n",
              "      <th>Profit</th>\n",
              "    </tr>\n",
              "  </thead>\n",
              "  <tbody>\n",
              "    <tr>\n",
              "      <th>0</th>\n",
              "      <td>Second Class</td>\n",
              "      <td>Consumer</td>\n",
              "      <td>United States</td>\n",
              "      <td>Henderson</td>\n",
              "      <td>Kentucky</td>\n",
              "      <td>42420</td>\n",
              "      <td>South</td>\n",
              "      <td>Furniture</td>\n",
              "      <td>Bookcases</td>\n",
              "      <td>261.9600</td>\n",
              "      <td>2</td>\n",
              "      <td>0.00</td>\n",
              "      <td>41.9136</td>\n",
              "    </tr>\n",
              "    <tr>\n",
              "      <th>1</th>\n",
              "      <td>Second Class</td>\n",
              "      <td>Consumer</td>\n",
              "      <td>United States</td>\n",
              "      <td>Henderson</td>\n",
              "      <td>Kentucky</td>\n",
              "      <td>42420</td>\n",
              "      <td>South</td>\n",
              "      <td>Furniture</td>\n",
              "      <td>Chairs</td>\n",
              "      <td>731.9400</td>\n",
              "      <td>3</td>\n",
              "      <td>0.00</td>\n",
              "      <td>219.5820</td>\n",
              "    </tr>\n",
              "    <tr>\n",
              "      <th>2</th>\n",
              "      <td>Second Class</td>\n",
              "      <td>Corporate</td>\n",
              "      <td>United States</td>\n",
              "      <td>Los Angeles</td>\n",
              "      <td>California</td>\n",
              "      <td>90036</td>\n",
              "      <td>West</td>\n",
              "      <td>Office Supplies</td>\n",
              "      <td>Labels</td>\n",
              "      <td>14.6200</td>\n",
              "      <td>2</td>\n",
              "      <td>0.00</td>\n",
              "      <td>6.8714</td>\n",
              "    </tr>\n",
              "    <tr>\n",
              "      <th>3</th>\n",
              "      <td>Standard Class</td>\n",
              "      <td>Consumer</td>\n",
              "      <td>United States</td>\n",
              "      <td>Fort Lauderdale</td>\n",
              "      <td>Florida</td>\n",
              "      <td>33311</td>\n",
              "      <td>South</td>\n",
              "      <td>Furniture</td>\n",
              "      <td>Tables</td>\n",
              "      <td>957.5775</td>\n",
              "      <td>5</td>\n",
              "      <td>0.45</td>\n",
              "      <td>-383.0310</td>\n",
              "    </tr>\n",
              "    <tr>\n",
              "      <th>4</th>\n",
              "      <td>Standard Class</td>\n",
              "      <td>Consumer</td>\n",
              "      <td>United States</td>\n",
              "      <td>Fort Lauderdale</td>\n",
              "      <td>Florida</td>\n",
              "      <td>33311</td>\n",
              "      <td>South</td>\n",
              "      <td>Office Supplies</td>\n",
              "      <td>Storage</td>\n",
              "      <td>22.3680</td>\n",
              "      <td>2</td>\n",
              "      <td>0.20</td>\n",
              "      <td>2.5164</td>\n",
              "    </tr>\n",
              "  </tbody>\n",
              "</table>\n",
              "</div>\n",
              "      <button class=\"colab-df-convert\" onclick=\"convertToInteractive('df-1b580f52-11d4-4b74-a06a-98a94956bfd3')\"\n",
              "              title=\"Convert this dataframe to an interactive table.\"\n",
              "              style=\"display:none;\">\n",
              "        \n",
              "  <svg xmlns=\"http://www.w3.org/2000/svg\" height=\"24px\"viewBox=\"0 0 24 24\"\n",
              "       width=\"24px\">\n",
              "    <path d=\"M0 0h24v24H0V0z\" fill=\"none\"/>\n",
              "    <path d=\"M18.56 5.44l.94 2.06.94-2.06 2.06-.94-2.06-.94-.94-2.06-.94 2.06-2.06.94zm-11 1L8.5 8.5l.94-2.06 2.06-.94-2.06-.94L8.5 2.5l-.94 2.06-2.06.94zm10 10l.94 2.06.94-2.06 2.06-.94-2.06-.94-.94-2.06-.94 2.06-2.06.94z\"/><path d=\"M17.41 7.96l-1.37-1.37c-.4-.4-.92-.59-1.43-.59-.52 0-1.04.2-1.43.59L10.3 9.45l-7.72 7.72c-.78.78-.78 2.05 0 2.83L4 21.41c.39.39.9.59 1.41.59.51 0 1.02-.2 1.41-.59l7.78-7.78 2.81-2.81c.8-.78.8-2.07 0-2.86zM5.41 20L4 18.59l7.72-7.72 1.47 1.35L5.41 20z\"/>\n",
              "  </svg>\n",
              "      </button>\n",
              "      \n",
              "  <style>\n",
              "    .colab-df-container {\n",
              "      display:flex;\n",
              "      flex-wrap:wrap;\n",
              "      gap: 12px;\n",
              "    }\n",
              "\n",
              "    .colab-df-convert {\n",
              "      background-color: #E8F0FE;\n",
              "      border: none;\n",
              "      border-radius: 50%;\n",
              "      cursor: pointer;\n",
              "      display: none;\n",
              "      fill: #1967D2;\n",
              "      height: 32px;\n",
              "      padding: 0 0 0 0;\n",
              "      width: 32px;\n",
              "    }\n",
              "\n",
              "    .colab-df-convert:hover {\n",
              "      background-color: #E2EBFA;\n",
              "      box-shadow: 0px 1px 2px rgba(60, 64, 67, 0.3), 0px 1px 3px 1px rgba(60, 64, 67, 0.15);\n",
              "      fill: #174EA6;\n",
              "    }\n",
              "\n",
              "    [theme=dark] .colab-df-convert {\n",
              "      background-color: #3B4455;\n",
              "      fill: #D2E3FC;\n",
              "    }\n",
              "\n",
              "    [theme=dark] .colab-df-convert:hover {\n",
              "      background-color: #434B5C;\n",
              "      box-shadow: 0px 1px 3px 1px rgba(0, 0, 0, 0.15);\n",
              "      filter: drop-shadow(0px 1px 2px rgba(0, 0, 0, 0.3));\n",
              "      fill: #FFFFFF;\n",
              "    }\n",
              "  </style>\n",
              "\n",
              "      <script>\n",
              "        const buttonEl =\n",
              "          document.querySelector('#df-1b580f52-11d4-4b74-a06a-98a94956bfd3 button.colab-df-convert');\n",
              "        buttonEl.style.display =\n",
              "          google.colab.kernel.accessAllowed ? 'block' : 'none';\n",
              "\n",
              "        async function convertToInteractive(key) {\n",
              "          const element = document.querySelector('#df-1b580f52-11d4-4b74-a06a-98a94956bfd3');\n",
              "          const dataTable =\n",
              "            await google.colab.kernel.invokeFunction('convertToInteractive',\n",
              "                                                     [key], {});\n",
              "          if (!dataTable) return;\n",
              "\n",
              "          const docLinkHtml = 'Like what you see? Visit the ' +\n",
              "            '<a target=\"_blank\" href=https://colab.research.google.com/notebooks/data_table.ipynb>data table notebook</a>'\n",
              "            + ' to learn more about interactive tables.';\n",
              "          element.innerHTML = '';\n",
              "          dataTable['output_type'] = 'display_data';\n",
              "          await google.colab.output.renderOutput(dataTable, element);\n",
              "          const docLink = document.createElement('div');\n",
              "          docLink.innerHTML = docLinkHtml;\n",
              "          element.appendChild(docLink);\n",
              "        }\n",
              "      </script>\n",
              "    </div>\n",
              "  </div>\n",
              "  "
            ]
          },
          "metadata": {},
          "execution_count": 2
        }
      ]
    },
    {
      "cell_type": "code",
      "source": [
        "sales_df.info"
      ],
      "metadata": {
        "colab": {
          "base_uri": "https://localhost:8080/"
        },
        "id": "pIPVsOiWUvIm",
        "outputId": "c7980e9a-5e57-4327-8e36-9cbab63bad51"
      },
      "execution_count": 3,
      "outputs": [
        {
          "output_type": "execute_result",
          "data": {
            "text/plain": [
              "<bound method DataFrame.info of            Ship Mode    Segment        Country             City       State  \\\n",
              "0       Second Class   Consumer  United States        Henderson    Kentucky   \n",
              "1       Second Class   Consumer  United States        Henderson    Kentucky   \n",
              "2       Second Class  Corporate  United States      Los Angeles  California   \n",
              "3     Standard Class   Consumer  United States  Fort Lauderdale     Florida   \n",
              "4     Standard Class   Consumer  United States  Fort Lauderdale     Florida   \n",
              "...              ...        ...            ...              ...         ...   \n",
              "9989    Second Class   Consumer  United States            Miami     Florida   \n",
              "9990  Standard Class   Consumer  United States       Costa Mesa  California   \n",
              "9991  Standard Class   Consumer  United States       Costa Mesa  California   \n",
              "9992  Standard Class   Consumer  United States       Costa Mesa  California   \n",
              "9993    Second Class   Consumer  United States      Westminster  California   \n",
              "\n",
              "      Postal Code Region         Category Sub-Category     Sales  Quantity  \\\n",
              "0           42420  South        Furniture    Bookcases  261.9600         2   \n",
              "1           42420  South        Furniture       Chairs  731.9400         3   \n",
              "2           90036   West  Office Supplies       Labels   14.6200         2   \n",
              "3           33311  South        Furniture       Tables  957.5775         5   \n",
              "4           33311  South  Office Supplies      Storage   22.3680         2   \n",
              "...           ...    ...              ...          ...       ...       ...   \n",
              "9989        33180  South        Furniture  Furnishings   25.2480         3   \n",
              "9990        92627   West        Furniture  Furnishings   91.9600         2   \n",
              "9991        92627   West       Technology       Phones  258.5760         2   \n",
              "9992        92627   West  Office Supplies        Paper   29.6000         4   \n",
              "9993        92683   West  Office Supplies   Appliances  243.1600         2   \n",
              "\n",
              "      Discount    Profit  \n",
              "0         0.00   41.9136  \n",
              "1         0.00  219.5820  \n",
              "2         0.00    6.8714  \n",
              "3         0.45 -383.0310  \n",
              "4         0.20    2.5164  \n",
              "...        ...       ...  \n",
              "9989      0.20    4.1028  \n",
              "9990      0.00   15.6332  \n",
              "9991      0.20   19.3932  \n",
              "9992      0.00   13.3200  \n",
              "9993      0.00   72.9480  \n",
              "\n",
              "[9994 rows x 13 columns]>"
            ]
          },
          "metadata": {},
          "execution_count": 3
        }
      ]
    },
    {
      "cell_type": "markdown",
      "source": [
        "Checking for all unique entries in each column to see if any can be removed."
      ],
      "metadata": {
        "id": "vqquzPTgU053"
      }
    },
    {
      "cell_type": "code",
      "source": [
        "unique_col_entries = sales_df.nunique()\n",
        "print(unique_col_entries)"
      ],
      "metadata": {
        "colab": {
          "base_uri": "https://localhost:8080/"
        },
        "id": "LMsGg2lkUxSe",
        "outputId": "bb6a365f-a14f-4920-b2f2-4440e08ca059"
      },
      "execution_count": 4,
      "outputs": [
        {
          "output_type": "stream",
          "name": "stdout",
          "text": [
            "Ship Mode          4\n",
            "Segment            3\n",
            "Country            1\n",
            "City             531\n",
            "State             49\n",
            "Postal Code      631\n",
            "Region             4\n",
            "Category           3\n",
            "Sub-Category      17\n",
            "Sales           5825\n",
            "Quantity          14\n",
            "Discount          12\n",
            "Profit          7287\n",
            "dtype: int64\n"
          ]
        }
      ]
    },
    {
      "cell_type": "markdown",
      "source": [
        "As country only has one type, United States, and there is a large number of unique values for postal code, i will delete both of these columns as the information is not required\n"
      ],
      "metadata": {
        "id": "-OcDYpsEU9qP"
      }
    },
    {
      "cell_type": "code",
      "source": [
        "sales_df.drop(['Country', 'Postal Code'], inplace=True, axis=1)"
      ],
      "metadata": {
        "id": "6EllpUdHU-8r"
      },
      "execution_count": 5,
      "outputs": []
    },
    {
      "cell_type": "markdown",
      "source": [
        "Confirm columns removal"
      ],
      "metadata": {
        "id": "jBpal6CTVJt_"
      }
    },
    {
      "cell_type": "code",
      "source": [
        "print(sales_df.columns)"
      ],
      "metadata": {
        "colab": {
          "base_uri": "https://localhost:8080/"
        },
        "id": "D7grUReLVOcx",
        "outputId": "e9c469a7-2999-4bde-b278-7ecd6e9784c8"
      },
      "execution_count": 6,
      "outputs": [
        {
          "output_type": "stream",
          "name": "stdout",
          "text": [
            "Index(['Ship Mode', 'Segment', 'City', 'State', 'Region', 'Category',\n",
            "       'Sub-Category', 'Sales', 'Quantity', 'Discount', 'Profit'],\n",
            "      dtype='object')\n"
          ]
        }
      ]
    },
    {
      "cell_type": "code",
      "source": [
        "city_count = sales_df['City'].value_counts()\n",
        "print(city_count)"
      ],
      "metadata": {
        "colab": {
          "base_uri": "https://localhost:8080/"
        },
        "id": "dd5381WnYvjJ",
        "outputId": "7aaa8f18-1eb6-4b47-83a4-006d77e7ff91"
      },
      "execution_count": 16,
      "outputs": [
        {
          "output_type": "stream",
          "name": "stdout",
          "text": [
            "New York City      915\n",
            "Los Angeles        747\n",
            "Philadelphia       537\n",
            "San Francisco      510\n",
            "Seattle            428\n",
            "                  ... \n",
            "Glenview             1\n",
            "Missouri City        1\n",
            "Rochester Hills      1\n",
            "Palatine             1\n",
            "Manhattan            1\n",
            "Name: City, Length: 531, dtype: int64\n"
          ]
        }
      ]
    },
    {
      "cell_type": "code",
      "source": [
        "state_count = sales_df['State'].value_counts()\n",
        "print(state_count)"
      ],
      "metadata": {
        "colab": {
          "base_uri": "https://localhost:8080/"
        },
        "id": "a9oFv1hYY6uB",
        "outputId": "df095a95-2a40-43ff-f2a1-4230d06d1678"
      },
      "execution_count": 17,
      "outputs": [
        {
          "output_type": "stream",
          "name": "stdout",
          "text": [
            "California              2001\n",
            "New York                1128\n",
            "Texas                    985\n",
            "Pennsylvania             587\n",
            "Washington               506\n",
            "Illinois                 492\n",
            "Ohio                     469\n",
            "Florida                  383\n",
            "Michigan                 255\n",
            "North Carolina           249\n",
            "Arizona                  224\n",
            "Virginia                 224\n",
            "Georgia                  184\n",
            "Tennessee                183\n",
            "Colorado                 182\n",
            "Indiana                  149\n",
            "Kentucky                 139\n",
            "Massachusetts            135\n",
            "New Jersey               130\n",
            "Oregon                   124\n",
            "Wisconsin                110\n",
            "Maryland                 105\n",
            "Delaware                  96\n",
            "Minnesota                 89\n",
            "Connecticut               82\n",
            "Oklahoma                  66\n",
            "Missouri                  66\n",
            "Alabama                   61\n",
            "Arkansas                  60\n",
            "Rhode Island              56\n",
            "Utah                      53\n",
            "Mississippi               53\n",
            "Louisiana                 42\n",
            "South Carolina            42\n",
            "Nevada                    39\n",
            "Nebraska                  38\n",
            "New Mexico                37\n",
            "Iowa                      30\n",
            "New Hampshire             27\n",
            "Kansas                    24\n",
            "Idaho                     21\n",
            "Montana                   15\n",
            "South Dakota              12\n",
            "Vermont                   11\n",
            "District of Columbia      10\n",
            "Maine                      8\n",
            "North Dakota               7\n",
            "West Virginia              4\n",
            "Wyoming                    1\n",
            "Name: State, dtype: int64\n"
          ]
        }
      ]
    },
    {
      "cell_type": "markdown",
      "source": [
        "visuilising sales for each state as there are too many individual cities to show on a chart"
      ],
      "metadata": {
        "id": "obKlxdcDbGm4"
      }
    },
    {
      "cell_type": "code",
      "source": [
        "import matplotlib.pyplot as plt"
      ],
      "metadata": {
        "id": "58QQuhMoZn69"
      },
      "execution_count": 23,
      "outputs": []
    },
    {
      "cell_type": "code",
      "source": [
        "state_count.plot(kind='barh', figsize=(10, 20))\n",
        "\n",
        "plt.title('State Counts')\n",
        "plt.xlabel('Count')\n",
        "plt.ylabel('State')\n",
        "\n",
        "plt.show()"
      ],
      "metadata": {
        "colab": {
          "base_uri": "https://localhost:8080/",
          "height": 1000
        },
        "id": "lvK04W-2aer6",
        "outputId": "81d8aa00-0fb1-47cf-e107-2593ea928268"
      },
      "execution_count": 24,
      "outputs": [
        {
          "output_type": "display_data",
          "data": {
            "text/plain": [
              "<Figure size 720x1440 with 1 Axes>"
            ],
            "image/png": "[encoded data removed]"
          },
          "metadata": {
            "needs_background": "light"
          }
        }
      ]
    },
    {
      "cell_type": "markdown",
      "source": [
        "detail on profit column to see range in profit of each sale"
      ],
      "metadata": {
        "id": "H3c_3Qj7ie2C"
      }
    },
    {
      "cell_type": "code",
      "source": [
        "profit_info = sales_df['Profit'].describe()\n",
        "print(profit_info)"
      ],
      "metadata": {
        "colab": {
          "base_uri": "https://localhost:8080/"
        },
        "id": "COxeELPddZx5",
        "outputId": "306c29f8-2734-4894-a1b3-71263f8e3c20"
      },
      "execution_count": 27,
      "outputs": [
        {
          "output_type": "stream",
          "name": "stdout",
          "text": [
            "count    9994.000000\n",
            "mean       28.656896\n",
            "std       234.260108\n",
            "min     -6599.978000\n",
            "25%         1.728750\n",
            "50%         8.666500\n",
            "75%        29.364000\n",
            "max      8399.976000\n",
            "Name: Profit, dtype: float64\n"
          ]
        }
      ]
    },
    {
      "cell_type": "markdown",
      "source": [
        "I would like to define all sales as \"profitable\" or \"loss leading\" as there are quite high variations between the two"
      ],
      "metadata": {
        "id": "4qWpHSa8i0QV"
      }
    },
    {
      "cell_type": "code",
      "source": [
        "neg_profit = sales_df.sort_values('Profit', ascending=False)\n",
        "print(neg_profit)"
      ],
      "metadata": {
        "colab": {
          "base_uri": "https://localhost:8080/"
        },
        "id": "fIeFJ0Jkd1Dn",
        "outputId": "eed7cb92-7334-44ea-ff6f-d0bb229b37dc"
      },
      "execution_count": 29,
      "outputs": [
        {
          "output_type": "stream",
          "name": "stdout",
          "text": [
            "           Ship Mode      Segment         City           State   Region  \\\n",
            "6826  Standard Class    Corporate    Lafayette         Indiana  Central   \n",
            "8153     First Class     Consumer      Seattle      Washington     West   \n",
            "4190  Standard Class     Consumer       Newark        Delaware     East   \n",
            "9039  Standard Class     Consumer      Detroit        Michigan  Central   \n",
            "4098  Standard Class     Consumer  Minneapolis       Minnesota  Central   \n",
            "...              ...          ...          ...             ...      ...   \n",
            "4991  Standard Class    Corporate      Chicago        Illinois  Central   \n",
            "3011  Standard Class  Home Office   Louisville        Colorado     West   \n",
            "9774  Standard Class     Consumer  San Antonio           Texas  Central   \n",
            "683         Same Day    Corporate   Burlington  North Carolina    South   \n",
            "7772  Standard Class     Consumer    Lancaster            Ohio     East   \n",
            "\n",
            "             Category Sub-Category      Sales  Quantity  Discount     Profit  \n",
            "6826       Technology      Copiers  17499.950         5       0.0  8399.9760  \n",
            "8153       Technology      Copiers  13999.960         4       0.0  6719.9808  \n",
            "4190       Technology      Copiers  10499.970         3       0.0  5039.9856  \n",
            "9039  Office Supplies      Binders   9892.740        13       0.0  4946.3700  \n",
            "4098  Office Supplies      Binders   9449.950         5       0.0  4630.4755  \n",
            "...               ...          ...        ...       ...       ...        ...  \n",
            "4991  Office Supplies      Binders   1889.990         5       0.8 -2929.4845  \n",
            "3011       Technology     Machines   2549.985         5       0.7 -3399.9800  \n",
            "9774  Office Supplies      Binders   2177.584         8       0.8 -3701.8928  \n",
            "683        Technology     Machines   7999.980         4       0.5 -3839.9904  \n",
            "7772       Technology     Machines   4499.985         5       0.7 -6599.9780  \n",
            "\n",
            "[9994 rows x 11 columns]\n"
          ]
        }
      ]
    },
    {
      "cell_type": "code",
      "source": [
        "categorize_profit = lambda x: 'loss leading' if x < 0 else 'profitable'\n",
        "sales_df['Profit or Loss'] = sales_df['Profit'].apply(categorize_profit)"
      ],
      "metadata": {
        "id": "eMmkzt_oeU1t"
      },
      "execution_count": 32,
      "outputs": []
    },
    {
      "cell_type": "code",
      "source": [
        "print(sales_df.head())"
      ],
      "metadata": {
        "colab": {
          "base_uri": "https://localhost:8080/"
        },
        "id": "3ydwYC-Hh04y",
        "outputId": "89c70f7d-c4c4-49f5-8836-93e57f9533dc"
      },
      "execution_count": 35,
      "outputs": [
        {
          "output_type": "stream",
          "name": "stdout",
          "text": [
            "        Ship Mode    Segment             City       State Region  \\\n",
            "0    Second Class   Consumer        Henderson    Kentucky  South   \n",
            "1    Second Class   Consumer        Henderson    Kentucky  South   \n",
            "2    Second Class  Corporate      Los Angeles  California   West   \n",
            "3  Standard Class   Consumer  Fort Lauderdale     Florida  South   \n",
            "4  Standard Class   Consumer  Fort Lauderdale     Florida  South   \n",
            "\n",
            "          Category Sub-Category     Sales  Quantity  Discount    Profit  \\\n",
            "0        Furniture    Bookcases  261.9600         2      0.00   41.9136   \n",
            "1        Furniture       Chairs  731.9400         3      0.00  219.5820   \n",
            "2  Office Supplies       Labels   14.6200         2      0.00    6.8714   \n",
            "3        Furniture       Tables  957.5775         5      0.45 -383.0310   \n",
            "4  Office Supplies      Storage   22.3680         2      0.20    2.5164   \n",
            "\n",
            "  Profit or Loss  \n",
            "0     profitable  \n",
            "1     profitable  \n",
            "2     profitable  \n",
            "3   loss leading  \n",
            "4     profitable  \n"
          ]
        }
      ]
    },
    {
      "cell_type": "code",
      "source": [
        "profitable_count = sales_df['Profit or Loss'].value_counts()\n",
        "print(profitable_count)"
      ],
      "metadata": {
        "colab": {
          "base_uri": "https://localhost:8080/"
        },
        "id": "T5lgcvOJjCmz",
        "outputId": "81850108-7b9b-4007-dd6a-c1ca2c1c62be"
      },
      "execution_count": 36,
      "outputs": [
        {
          "output_type": "stream",
          "name": "stdout",
          "text": [
            "profitable      8123\n",
            "loss leading    1871\n",
            "Name: Profit or Loss, dtype: int64\n"
          ]
        }
      ]
    }
  ]
}