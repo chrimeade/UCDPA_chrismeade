{
  "nbformat": 4,
  "nbformat_minor": 0,
  "metadata": {
    "colab": {
      "provenance": [],
      "authorship_tag": "ABX9TyPBPHr8szypLwdy+UvNwi50",
      "include_colab_link": true
    },
    "kernelspec": {
      "name": "python3",
      "display_name": "Python 3"
    },
    "language_info": {
      "name": "python"
    }
  },
  "cells": [
    {
      "cell_type": "markdown",
      "metadata": {
        "id": "view-in-github",
        "colab_type": "text"
      },
      "source": [
        "<a href=\"https://colab.research.google.com/github/chrimeade/UCDPA_chrismeade/blob/main/superstore_dataset.ipynb\" target=\"_parent\"><img src=\"https://colab.research.google.com/assets/colab-badge.svg\" alt=\"Open In Colab\"/></a>"
      ]
    },
    {
      "cell_type": "code",
      "execution_count": 3,
      "metadata": {
        "id": "2t07p5xWUf0I"
      },
      "outputs": [],
      "source": [
        "import pandas as pd\n",
        "import seaborn as sns\n",
        "import matplotlib.pyplot as plt"
      ]
    },
    {
      "cell_type": "code",
      "source": [
        "from google.colab import drive\n",
        "drive.mount('/content/drive')\n"
      ],
      "metadata": {
        "colab": {
          "base_uri": "https://localhost:8080/"
        },
        "id": "oO2y1TPQJO_F",
        "outputId": "34e55151-da87-4e9b-d600-9423ef6a8b31"
      },
      "execution_count": 4,
      "outputs": [
        {
          "output_type": "stream",
          "name": "stdout",
          "text": [
            "Mounted at /content/drive\n"
          ]
        }
      ]
    },
    {
      "cell_type": "code",
      "source": [
        "path = \"/content/drive/MyDrive/Datasets/SampleSuperstore.csv\"\n",
        "sales_df = pd.read_csv(path)"
      ],
      "metadata": {
        "id": "z5x0JEocL51T"
      },
      "execution_count": 5,
      "outputs": []
    },
    {
      "cell_type": "code",
      "source": [
        "sales_df.info"
      ],
      "metadata": {
        "colab": {
          "base_uri": "https://localhost:8080/"
        },
        "id": "pIPVsOiWUvIm",
        "outputId": "3a756dc3-d432-4d96-b5f8-be3721bea980"
      },
      "execution_count": 6,
      "outputs": [
        {
          "output_type": "execute_result",
          "data": {
            "text/plain": [
              "<bound method DataFrame.info of            Ship Mode    Segment        Country             City       State  \\\n",
              "0       Second Class   Consumer  United States        Henderson    Kentucky   \n",
              "1       Second Class   Consumer  United States        Henderson    Kentucky   \n",
              "2       Second Class  Corporate  United States      Los Angeles  California   \n",
              "3     Standard Class   Consumer  United States  Fort Lauderdale     Florida   \n",
              "4     Standard Class   Consumer  United States  Fort Lauderdale     Florida   \n",
              "...              ...        ...            ...              ...         ...   \n",
              "9989    Second Class   Consumer  United States            Miami     Florida   \n",
              "9990  Standard Class   Consumer  United States       Costa Mesa  California   \n",
              "9991  Standard Class   Consumer  United States       Costa Mesa  California   \n",
              "9992  Standard Class   Consumer  United States       Costa Mesa  California   \n",
              "9993    Second Class   Consumer  United States      Westminster  California   \n",
              "\n",
              "      Postal Code Region         Category Sub-Category     Sales  Quantity  \\\n",
              "0           42420  South        Furniture    Bookcases  261.9600         2   \n",
              "1           42420  South        Furniture       Chairs  731.9400         3   \n",
              "2           90036   West  Office Supplies       Labels   14.6200         2   \n",
              "3           33311  South        Furniture       Tables  957.5775         5   \n",
              "4           33311  South  Office Supplies      Storage   22.3680         2   \n",
              "...           ...    ...              ...          ...       ...       ...   \n",
              "9989        33180  South        Furniture  Furnishings   25.2480         3   \n",
              "9990        92627   West        Furniture  Furnishings   91.9600         2   \n",
              "9991        92627   West       Technology       Phones  258.5760         2   \n",
              "9992        92627   West  Office Supplies        Paper   29.6000         4   \n",
              "9993        92683   West  Office Supplies   Appliances  243.1600         2   \n",
              "\n",
              "      Discount    Profit  \n",
              "0         0.00   41.9136  \n",
              "1         0.00  219.5820  \n",
              "2         0.00    6.8714  \n",
              "3         0.45 -383.0310  \n",
              "4         0.20    2.5164  \n",
              "...        ...       ...  \n",
              "9989      0.20    4.1028  \n",
              "9990      0.00   15.6332  \n",
              "9991      0.20   19.3932  \n",
              "9992      0.00   13.3200  \n",
              "9993      0.00   72.9480  \n",
              "\n",
              "[9994 rows x 13 columns]>"
            ]
          },
          "metadata": {},
          "execution_count": 6
        }
      ]
    },
    {
      "cell_type": "markdown",
      "source": [
        "Checking for all unique entries in each column to see if any can be removed."
      ],
      "metadata": {
        "id": "vqquzPTgU053"
      }
    },
    {
      "cell_type": "code",
      "source": [
        "sales_df.nunique()"
      ],
      "metadata": {
        "colab": {
          "base_uri": "https://localhost:8080/"
        },
        "id": "LMsGg2lkUxSe",
        "outputId": "1c2be297-8837-43d9-ea6e-809926e222c0"
      },
      "execution_count": null,
      "outputs": [
        {
          "output_type": "execute_result",
          "data": {
            "text/plain": [
              "Ship Mode          4\n",
              "Segment            3\n",
              "Country            1\n",
              "City             531\n",
              "State             49\n",
              "Postal Code      631\n",
              "Region             4\n",
              "Category           3\n",
              "Sub-Category      17\n",
              "Sales           5825\n",
              "Quantity          14\n",
              "Discount          12\n",
              "Profit          7287\n",
              "dtype: int64"
            ]
          },
          "metadata": {},
          "execution_count": 44
        }
      ]
    },
    {
      "cell_type": "markdown",
      "source": [
        "As country only has one type, United States, and there is a large number of unique values for postal code, i will delete both of these columns as the information is not required\n"
      ],
      "metadata": {
        "id": "-OcDYpsEU9qP"
      }
    },
    {
      "cell_type": "code",
      "source": [
        "sales_df.drop(['Country', 'Postal Code'], inplace=True, axis=1)"
      ],
      "metadata": {
        "id": "6EllpUdHU-8r"
      },
      "execution_count": null,
      "outputs": []
    },
    {
      "cell_type": "markdown",
      "source": [
        "Confirm columns removal"
      ],
      "metadata": {
        "id": "jBpal6CTVJt_"
      }
    },
    {
      "cell_type": "code",
      "source": [
        "print(sales_df.columns)"
      ],
      "metadata": {
        "colab": {
          "base_uri": "https://localhost:8080/"
        },
        "id": "D7grUReLVOcx",
        "outputId": "28b4e19c-eb89-4bac-e0e3-ed79616055e8"
      },
      "execution_count": null,
      "outputs": [
        {
          "output_type": "stream",
          "name": "stdout",
          "text": [
            "Index(['Ship Mode', 'Segment', 'City', 'State', 'Region', 'Category',\n",
            "       'Sub-Category', 'Sales', 'Quantity', 'Discount', 'Profit'],\n",
            "      dtype='object')\n"
          ]
        }
      ]
    },
    {
      "cell_type": "code",
      "source": [
        "sales_df['City'].value_counts()"
      ],
      "metadata": {
        "colab": {
          "base_uri": "https://localhost:8080/"
        },
        "id": "dd5381WnYvjJ",
        "outputId": "f8ee0072-a635-4da8-ed67-e7a81eb7399d"
      },
      "execution_count": null,
      "outputs": [
        {
          "output_type": "execute_result",
          "data": {
            "text/plain": [
              "New York City      915\n",
              "Los Angeles        747\n",
              "Philadelphia       537\n",
              "San Francisco      510\n",
              "Seattle            428\n",
              "                  ... \n",
              "Glenview             1\n",
              "Missouri City        1\n",
              "Rochester Hills      1\n",
              "Palatine             1\n",
              "Manhattan            1\n",
              "Name: City, Length: 531, dtype: int64"
            ]
          },
          "metadata": {},
          "execution_count": 47
        }
      ]
    },
    {
      "cell_type": "code",
      "source": [
        "sales_df['State'].value_counts()"
      ],
      "metadata": {
        "colab": {
          "base_uri": "https://localhost:8080/"
        },
        "id": "a9oFv1hYY6uB",
        "outputId": "35767187-ff06-43a0-c3d8-ef3b1c8e9bde"
      },
      "execution_count": null,
      "outputs": [
        {
          "output_type": "execute_result",
          "data": {
            "text/plain": [
              "California              2001\n",
              "New York                1128\n",
              "Texas                    985\n",
              "Pennsylvania             587\n",
              "Washington               506\n",
              "Illinois                 492\n",
              "Ohio                     469\n",
              "Florida                  383\n",
              "Michigan                 255\n",
              "North Carolina           249\n",
              "Arizona                  224\n",
              "Virginia                 224\n",
              "Georgia                  184\n",
              "Tennessee                183\n",
              "Colorado                 182\n",
              "Indiana                  149\n",
              "Kentucky                 139\n",
              "Massachusetts            135\n",
              "New Jersey               130\n",
              "Oregon                   124\n",
              "Wisconsin                110\n",
              "Maryland                 105\n",
              "Delaware                  96\n",
              "Minnesota                 89\n",
              "Connecticut               82\n",
              "Oklahoma                  66\n",
              "Missouri                  66\n",
              "Alabama                   61\n",
              "Arkansas                  60\n",
              "Rhode Island              56\n",
              "Utah                      53\n",
              "Mississippi               53\n",
              "Louisiana                 42\n",
              "South Carolina            42\n",
              "Nevada                    39\n",
              "Nebraska                  38\n",
              "New Mexico                37\n",
              "Iowa                      30\n",
              "New Hampshire             27\n",
              "Kansas                    24\n",
              "Idaho                     21\n",
              "Montana                   15\n",
              "South Dakota              12\n",
              "Vermont                   11\n",
              "District of Columbia      10\n",
              "Maine                      8\n",
              "North Dakota               7\n",
              "West Virginia              4\n",
              "Wyoming                    1\n",
              "Name: State, dtype: int64"
            ]
          },
          "metadata": {},
          "execution_count": 48
        }
      ]
    },
    {
      "cell_type": "markdown",
      "source": [
        "visuilising sales for each state as there are too many individual cities to show on a chart"
      ],
      "metadata": {
        "id": "obKlxdcDbGm4"
      }
    },
    {
      "cell_type": "code",
      "source": [
        "import matplotlib.pyplot as plt"
      ],
      "metadata": {
        "id": "58QQuhMoZn69"
      },
      "execution_count": null,
      "outputs": []
    },
    {
      "cell_type": "code",
      "source": [
        "state_count.plot(kind='barh', figsize=(10, 20))\n",
        "\n",
        "plt.title('State Counts')\n",
        "plt.xlabel('Count')\n",
        "plt.ylabel('State')\n",
        "\n",
        "plt.show()"
      ],
      "metadata": {
        "colab": {
          "base_uri": "https://localhost:8080/",
          "height": 1000
        },
        "id": "lvK04W-2aer6",
        "outputId": "81d8aa00-0fb1-47cf-e107-2593ea928268"
      },
      "execution_count": null,
      "outputs": [
        {
          "output_type": "display_data",
          "data": {
            "text/plain": [
              "<Figure size 720x1440 with 1 Axes>"
            ],
            "image/png": "[encoded data removed]"
          },
          "metadata": {
            "needs_background": "light"
          }
        }
      ]
    },
    {
      "cell_type": "markdown",
      "source": [
        "detail on profit column to see range in profit of each sale"
      ],
      "metadata": {
        "id": "H3c_3Qj7ie2C"
      }
    },
    {
      "cell_type": "markdown",
      "source": [
        "Creating a dictionary which uses each state as the key and the total sales for each state as the value:"
      ],
      "metadata": {
        "id": "w-K72IYQKkXp"
      }
    },
    {
      "cell_type": "code",
      "source": [
        "state_sales_dict = {}\n",
        "for state in sales_df['State'].unique():\n",
        "    state_sales_dict[state] = sales_df.loc[sales_df['State'] == state, 'Sales'].sum()\n",
        "print(state_sales_dict)"
      ],
      "metadata": {
        "colab": {
          "base_uri": "https://localhost:8080/"
        },
        "id": "iDadxo_mJ9bT",
        "outputId": "392dd27a-bbb2-4910-b0db-3f6b8b82fbba"
      },
      "execution_count": null,
      "outputs": [
        {
          "output_type": "stream",
          "name": "stdout",
          "text": [
            "{'Kentucky': 36591.75, 'California': 457687.6315, 'Florida': 89473.708, 'North Carolina': 55603.164000000004, 'Washington': 138641.27, 'Texas': 170188.0458, 'Wisconsin': 32114.61, 'Utah': 11220.055999999999, 'Nebraska': 7464.93, 'Pennsylvania': 116511.914, 'Illinois': 80166.101, 'Minnesota': 29863.15, 'Michigan': 76269.614, 'Delaware': 27451.069, 'Indiana': 53555.359999999986, 'New York': 310876.27099999995, 'Arizona': 35282.001000000004, 'Virginia': 70636.72, 'Tennessee': 30661.873, 'Alabama': 19510.639999999996, 'South Carolina': 8481.710000000001, 'Oregon': 17431.149999999998, 'Colorado': 32108.118000000002, 'Iowa': 4579.759999999999, 'Ohio': 78258.136, 'Missouri': 22205.149999999998, 'Oklahoma': 19683.390000000003, 'New Mexico': 4783.522, 'Louisiana': 9217.03, 'Connecticut': 13384.357, 'New Jersey': 35764.312, 'Massachusetts': 28634.434000000005, 'Georgia': 49095.84, 'Nevada': 16729.102000000003, 'Rhode Island': 22627.956, 'Mississippi': 10771.340000000002, 'Arkansas': 11678.130000000001, 'Montana': 5589.351999999997, 'New Hampshire': 7292.5239999999985, 'Maryland': 23705.523000000005, 'District of Columbia': 2865.02, 'Kansas': 2914.31, 'Vermont': 8929.369999999999, 'Maine': 1270.53, 'South Dakota': 1315.5600000000002, 'Idaho': 4382.486000000001, 'North Dakota': 919.91, 'Wyoming': 1603.136, 'West Virginia': 1209.824}\n"
          ]
        }
      ]
    },
    {
      "cell_type": "markdown",
      "source": [
        "Amended code where dictionary results are printed on each individual line:"
      ],
      "metadata": {
        "id": "NXW2Qs7xMfPL"
      }
    },
    {
      "cell_type": "code",
      "source": [
        "state_sales_dict = {}\n",
        "for state in sales_df['State'].unique():\n",
        "    state_sales_dict[state] = sales_df.loc[sales_df['State'] == state, 'Sales'].sum()\n",
        "for key, value in state_sales_dict.items():\n",
        "    print(key + \": \" + str(round(value, 2)))"
      ],
      "metadata": {
        "colab": {
          "base_uri": "https://localhost:8080/"
        },
        "id": "e97cxt1zLDGN",
        "outputId": "2336c238-51a2-4c93-9068-fbde6b09b540"
      },
      "execution_count": null,
      "outputs": [
        {
          "output_type": "stream",
          "name": "stdout",
          "text": [
            "Kentucky: 36591.75\n",
            "California: 457687.63\n",
            "Florida: 89473.71\n",
            "North Carolina: 55603.16\n",
            "Washington: 138641.27\n",
            "Texas: 170188.05\n",
            "Wisconsin: 32114.61\n",
            "Utah: 11220.06\n",
            "Nebraska: 7464.93\n",
            "Pennsylvania: 116511.91\n",
            "Illinois: 80166.1\n",
            "Minnesota: 29863.15\n",
            "Michigan: 76269.61\n",
            "Delaware: 27451.07\n",
            "Indiana: 53555.36\n",
            "New York: 310876.27\n",
            "Arizona: 35282.0\n",
            "Virginia: 70636.72\n",
            "Tennessee: 30661.87\n",
            "Alabama: 19510.64\n",
            "South Carolina: 8481.71\n",
            "Oregon: 17431.15\n",
            "Colorado: 32108.12\n",
            "Iowa: 4579.76\n",
            "Ohio: 78258.14\n",
            "Missouri: 22205.15\n",
            "Oklahoma: 19683.39\n",
            "New Mexico: 4783.52\n",
            "Louisiana: 9217.03\n",
            "Connecticut: 13384.36\n",
            "New Jersey: 35764.31\n",
            "Massachusetts: 28634.43\n",
            "Georgia: 49095.84\n",
            "Nevada: 16729.1\n",
            "Rhode Island: 22627.96\n",
            "Mississippi: 10771.34\n",
            "Arkansas: 11678.13\n",
            "Montana: 5589.35\n",
            "New Hampshire: 7292.52\n",
            "Maryland: 23705.52\n",
            "District of Columbia: 2865.02\n",
            "Kansas: 2914.31\n",
            "Vermont: 8929.37\n",
            "Maine: 1270.53\n",
            "South Dakota: 1315.56\n",
            "Idaho: 4382.49\n",
            "North Dakota: 919.91\n",
            "Wyoming: 1603.14\n",
            "West Virginia: 1209.82\n"
          ]
        }
      ]
    },
    {
      "cell_type": "code",
      "source": [
        "profit_info = sales_df['Profit'].describe()\n",
        "print(profit_info)"
      ],
      "metadata": {
        "id": "COxeELPddZx5",
        "colab": {
          "base_uri": "https://localhost:8080/"
        },
        "outputId": "af14cfe5-9083-4878-e4b7-5e30239f9f01"
      },
      "execution_count": null,
      "outputs": [
        {
          "output_type": "stream",
          "name": "stdout",
          "text": [
            "count    9994.000000\n",
            "mean       28.656896\n",
            "std       234.260108\n",
            "min     -6599.978000\n",
            "25%         1.728750\n",
            "50%         8.666500\n",
            "75%        29.364000\n",
            "max      8399.976000\n",
            "Name: Profit, dtype: float64\n"
          ]
        }
      ]
    },
    {
      "cell_type": "markdown",
      "source": [
        "I would like to define all sales as \"profitable\" or \"loss leading\" as there are quite high variations between the two"
      ],
      "metadata": {
        "id": "4qWpHSa8i0QV"
      }
    },
    {
      "cell_type": "code",
      "source": [
        "sales_df.sort_values('Profit', ascending=False)"
      ],
      "metadata": {
        "colab": {
          "base_uri": "https://localhost:8080/",
          "height": 419
        },
        "id": "fIeFJ0Jkd1Dn",
        "outputId": "c94f0d4d-050b-4fa2-e806-93722aee12d2"
      },
      "execution_count": null,
      "outputs": [
        {
          "output_type": "execute_result",
          "data": {
            "text/plain": [
              "           Ship Mode      Segment         City           State   Region  \\\n",
              "6826  Standard Class    Corporate    Lafayette         Indiana  Central   \n",
              "8153     First Class     Consumer      Seattle      Washington     West   \n",
              "4190  Standard Class     Consumer       Newark        Delaware     East   \n",
              "9039  Standard Class     Consumer      Detroit        Michigan  Central   \n",
              "4098  Standard Class     Consumer  Minneapolis       Minnesota  Central   \n",
              "...              ...          ...          ...             ...      ...   \n",
              "4991  Standard Class    Corporate      Chicago        Illinois  Central   \n",
              "3011  Standard Class  Home Office   Louisville        Colorado     West   \n",
              "9774  Standard Class     Consumer  San Antonio           Texas  Central   \n",
              "683         Same Day    Corporate   Burlington  North Carolina    South   \n",
              "7772  Standard Class     Consumer    Lancaster            Ohio     East   \n",
              "\n",
              "             Category Sub-Category      Sales  Quantity  Discount     Profit  \n",
              "6826       Technology      Copiers  17499.950         5       0.0  8399.9760  \n",
              "8153       Technology      Copiers  13999.960         4       0.0  6719.9808  \n",
              "4190       Technology      Copiers  10499.970         3       0.0  5039.9856  \n",
              "9039  Office Supplies      Binders   9892.740        13       0.0  4946.3700  \n",
              "4098  Office Supplies      Binders   9449.950         5       0.0  4630.4755  \n",
              "...               ...          ...        ...       ...       ...        ...  \n",
              "4991  Office Supplies      Binders   1889.990         5       0.8 -2929.4845  \n",
              "3011       Technology     Machines   2549.985         5       0.7 -3399.9800  \n",
              "9774  Office Supplies      Binders   2177.584         8       0.8 -3701.8928  \n",
              "683        Technology     Machines   7999.980         4       0.5 -3839.9904  \n",
              "7772       Technology     Machines   4499.985         5       0.7 -6599.9780  \n",
              "\n",
              "[9994 rows x 11 columns]"
            ],
            "text/html": [
              "\n",
              "  <div id=\"df-ca50866a-d20b-4d60-b91f-053c2630f3a4\">\n",
              "    <div class=\"colab-df-container\">\n",
              "      <div>\n",
              "<style scoped>\n",
              "    .dataframe tbody tr th:only-of-type {\n",
              "        vertical-align: middle;\n",
              "    }\n",
              "\n",
              "    .dataframe tbody tr th {\n",
              "        vertical-align: top;\n",
              "    }\n",
              "\n",
              "    .dataframe thead th {\n",
              "        text-align: right;\n",
              "    }\n",
              "</style>\n",
              "<table border=\"1\" class=\"dataframe\">\n",
              "  <thead>\n",
              "    <tr style=\"text-align: right;\">\n",
              "      <th></th>\n",
              "      <th>Ship Mode</th>\n",
              "      <th>Segment</th>\n",
              "      <th>City</th>\n",
              "      <th>State</th>\n",
              "      <th>Region</th>\n",
              "      <th>Category</th>\n",
              "      <th>Sub-Category</th>\n",
              "      <th>Sales</th>\n",
              "      <th>Quantity</th>\n",
              "      <th>Discount</th>\n",
              "      <th>Profit</th>\n",
              "    </tr>\n",
              "  </thead>\n",
              "  <tbody>\n",
              "    <tr>\n",
              "      <th>6826</th>\n",
              "      <td>Standard Class</td>\n",
              "      <td>Corporate</td>\n",
              "      <td>Lafayette</td>\n",
              "      <td>Indiana</td>\n",
              "      <td>Central</td>\n",
              "      <td>Technology</td>\n",
              "      <td>Copiers</td>\n",
              "      <td>17499.950</td>\n",
              "      <td>5</td>\n",
              "      <td>0.0</td>\n",
              "      <td>8399.9760</td>\n",
              "    </tr>\n",
              "    <tr>\n",
              "      <th>8153</th>\n",
              "      <td>First Class</td>\n",
              "      <td>Consumer</td>\n",
              "      <td>Seattle</td>\n",
              "      <td>Washington</td>\n",
              "      <td>West</td>\n",
              "      <td>Technology</td>\n",
              "      <td>Copiers</td>\n",
              "      <td>13999.960</td>\n",
              "      <td>4</td>\n",
              "      <td>0.0</td>\n",
              "      <td>6719.9808</td>\n",
              "    </tr>\n",
              "    <tr>\n",
              "      <th>4190</th>\n",
              "      <td>Standard Class</td>\n",
              "      <td>Consumer</td>\n",
              "      <td>Newark</td>\n",
              "      <td>Delaware</td>\n",
              "      <td>East</td>\n",
              "      <td>Technology</td>\n",
              "      <td>Copiers</td>\n",
              "      <td>10499.970</td>\n",
              "      <td>3</td>\n",
              "      <td>0.0</td>\n",
              "      <td>5039.9856</td>\n",
              "    </tr>\n",
              "    <tr>\n",
              "      <th>9039</th>\n",
              "      <td>Standard Class</td>\n",
              "      <td>Consumer</td>\n",
              "      <td>Detroit</td>\n",
              "      <td>Michigan</td>\n",
              "      <td>Central</td>\n",
              "      <td>Office Supplies</td>\n",
              "      <td>Binders</td>\n",
              "      <td>9892.740</td>\n",
              "      <td>13</td>\n",
              "      <td>0.0</td>\n",
              "      <td>4946.3700</td>\n",
              "    </tr>\n",
              "    <tr>\n",
              "      <th>4098</th>\n",
              "      <td>Standard Class</td>\n",
              "      <td>Consumer</td>\n",
              "      <td>Minneapolis</td>\n",
              "      <td>Minnesota</td>\n",
              "      <td>Central</td>\n",
              "      <td>Office Supplies</td>\n",
              "      <td>Binders</td>\n",
              "      <td>9449.950</td>\n",
              "      <td>5</td>\n",
              "      <td>0.0</td>\n",
              "      <td>4630.4755</td>\n",
              "    </tr>\n",
              "    <tr>\n",
              "      <th>...</th>\n",
              "      <td>...</td>\n",
              "      <td>...</td>\n",
              "      <td>...</td>\n",
              "      <td>...</td>\n",
              "      <td>...</td>\n",
              "      <td>...</td>\n",
              "      <td>...</td>\n",
              "      <td>...</td>\n",
              "      <td>...</td>\n",
              "      <td>...</td>\n",
              "      <td>...</td>\n",
              "    </tr>\n",
              "    <tr>\n",
              "      <th>4991</th>\n",
              "      <td>Standard Class</td>\n",
              "      <td>Corporate</td>\n",
              "      <td>Chicago</td>\n",
              "      <td>Illinois</td>\n",
              "      <td>Central</td>\n",
              "      <td>Office Supplies</td>\n",
              "      <td>Binders</td>\n",
              "      <td>1889.990</td>\n",
              "      <td>5</td>\n",
              "      <td>0.8</td>\n",
              "      <td>-2929.4845</td>\n",
              "    </tr>\n",
              "    <tr>\n",
              "      <th>3011</th>\n",
              "      <td>Standard Class</td>\n",
              "      <td>Home Office</td>\n",
              "      <td>Louisville</td>\n",
              "      <td>Colorado</td>\n",
              "      <td>West</td>\n",
              "      <td>Technology</td>\n",
              "      <td>Machines</td>\n",
              "      <td>2549.985</td>\n",
              "      <td>5</td>\n",
              "      <td>0.7</td>\n",
              "      <td>-3399.9800</td>\n",
              "    </tr>\n",
              "    <tr>\n",
              "      <th>9774</th>\n",
              "      <td>Standard Class</td>\n",
              "      <td>Consumer</td>\n",
              "      <td>San Antonio</td>\n",
              "      <td>Texas</td>\n",
              "      <td>Central</td>\n",
              "      <td>Office Supplies</td>\n",
              "      <td>Binders</td>\n",
              "      <td>2177.584</td>\n",
              "      <td>8</td>\n",
              "      <td>0.8</td>\n",
              "      <td>-3701.8928</td>\n",
              "    </tr>\n",
              "    <tr>\n",
              "      <th>683</th>\n",
              "      <td>Same Day</td>\n",
              "      <td>Corporate</td>\n",
              "      <td>Burlington</td>\n",
              "      <td>North Carolina</td>\n",
              "      <td>South</td>\n",
              "      <td>Technology</td>\n",
              "      <td>Machines</td>\n",
              "      <td>7999.980</td>\n",
              "      <td>4</td>\n",
              "      <td>0.5</td>\n",
              "      <td>-3839.9904</td>\n",
              "    </tr>\n",
              "    <tr>\n",
              "      <th>7772</th>\n",
              "      <td>Standard Class</td>\n",
              "      <td>Consumer</td>\n",
              "      <td>Lancaster</td>\n",
              "      <td>Ohio</td>\n",
              "      <td>East</td>\n",
              "      <td>Technology</td>\n",
              "      <td>Machines</td>\n",
              "      <td>4499.985</td>\n",
              "      <td>5</td>\n",
              "      <td>0.7</td>\n",
              "      <td>-6599.9780</td>\n",
              "    </tr>\n",
              "  </tbody>\n",
              "</table>\n",
              "<p>9994 rows × 11 columns</p>\n",
              "</div>\n",
              "      <button class=\"colab-df-convert\" onclick=\"convertToInteractive('df-ca50866a-d20b-4d60-b91f-053c2630f3a4')\"\n",
              "              title=\"Convert this dataframe to an interactive table.\"\n",
              "              style=\"display:none;\">\n",
              "        \n",
              "  <svg xmlns=\"http://www.w3.org/2000/svg\" height=\"24px\"viewBox=\"0 0 24 24\"\n",
              "       width=\"24px\">\n",
              "    <path d=\"M0 0h24v24H0V0z\" fill=\"none\"/>\n",
              "    <path d=\"M18.56 5.44l.94 2.06.94-2.06 2.06-.94-2.06-.94-.94-2.06-.94 2.06-2.06.94zm-11 1L8.5 8.5l.94-2.06 2.06-.94-2.06-.94L8.5 2.5l-.94 2.06-2.06.94zm10 10l.94 2.06.94-2.06 2.06-.94-2.06-.94-.94-2.06-.94 2.06-2.06.94z\"/><path d=\"M17.41 7.96l-1.37-1.37c-.4-.4-.92-.59-1.43-.59-.52 0-1.04.2-1.43.59L10.3 9.45l-7.72 7.72c-.78.78-.78 2.05 0 2.83L4 21.41c.39.39.9.59 1.41.59.51 0 1.02-.2 1.41-.59l7.78-7.78 2.81-2.81c.8-.78.8-2.07 0-2.86zM5.41 20L4 18.59l7.72-7.72 1.47 1.35L5.41 20z\"/>\n",
              "  </svg>\n",
              "      </button>\n",
              "      \n",
              "  <style>\n",
              "    .colab-df-container {\n",
              "      display:flex;\n",
              "      flex-wrap:wrap;\n",
              "      gap: 12px;\n",
              "    }\n",
              "\n",
              "    .colab-df-convert {\n",
              "      background-color: #E8F0FE;\n",
              "      border: none;\n",
              "      border-radius: 50%;\n",
              "      cursor: pointer;\n",
              "      display: none;\n",
              "      fill: #1967D2;\n",
              "      height: 32px;\n",
              "      padding: 0 0 0 0;\n",
              "      width: 32px;\n",
              "    }\n",
              "\n",
              "    .colab-df-convert:hover {\n",
              "      background-color: #E2EBFA;\n",
              "      box-shadow: 0px 1px 2px rgba(60, 64, 67, 0.3), 0px 1px 3px 1px rgba(60, 64, 67, 0.15);\n",
              "      fill: #174EA6;\n",
              "    }\n",
              "\n",
              "    [theme=dark] .colab-df-convert {\n",
              "      background-color: #3B4455;\n",
              "      fill: #D2E3FC;\n",
              "    }\n",
              "\n",
              "    [theme=dark] .colab-df-convert:hover {\n",
              "      background-color: #434B5C;\n",
              "      box-shadow: 0px 1px 3px 1px rgba(0, 0, 0, 0.15);\n",
              "      filter: drop-shadow(0px 1px 2px rgba(0, 0, 0, 0.3));\n",
              "      fill: #FFFFFF;\n",
              "    }\n",
              "  </style>\n",
              "\n",
              "      <script>\n",
              "        const buttonEl =\n",
              "          document.querySelector('#df-ca50866a-d20b-4d60-b91f-053c2630f3a4 button.colab-df-convert');\n",
              "        buttonEl.style.display =\n",
              "          google.colab.kernel.accessAllowed ? 'block' : 'none';\n",
              "\n",
              "        async function convertToInteractive(key) {\n",
              "          const element = document.querySelector('#df-ca50866a-d20b-4d60-b91f-053c2630f3a4');\n",
              "          const dataTable =\n",
              "            await google.colab.kernel.invokeFunction('convertToInteractive',\n",
              "                                                     [key], {});\n",
              "          if (!dataTable) return;\n",
              "\n",
              "          const docLinkHtml = 'Like what you see? Visit the ' +\n",
              "            '<a target=\"_blank\" href=https://colab.research.google.com/notebooks/data_table.ipynb>data table notebook</a>'\n",
              "            + ' to learn more about interactive tables.';\n",
              "          element.innerHTML = '';\n",
              "          dataTable['output_type'] = 'display_data';\n",
              "          await google.colab.output.renderOutput(dataTable, element);\n",
              "          const docLink = document.createElement('div');\n",
              "          docLink.innerHTML = docLinkHtml;\n",
              "          element.appendChild(docLink);\n",
              "        }\n",
              "      </script>\n",
              "    </div>\n",
              "  </div>\n",
              "  "
            ]
          },
          "metadata": {},
          "execution_count": 50
        }
      ]
    },
    {
      "cell_type": "code",
      "source": [
        "state_group = sales_df.groupby(\"State\")\n",
        "state_average_profit_sales = state_group[\"Profit\", \"Sales\"].mean()\n",
        "print(state_average_profit_sales)"
      ],
      "metadata": {
        "colab": {
          "base_uri": "https://localhost:8080/"
        },
        "id": "fnQ30OwlPaNs",
        "outputId": "5055d67d-b5b5-4054-842c-4dcccc8abfc4"
      },
      "execution_count": null,
      "outputs": [
        {
          "output_type": "stream",
          "name": "stdout",
          "text": [
            "                          Profit        Sales\n",
            "State                                        \n",
            "Alabama                94.865989   319.846557\n",
            "Arizona               -15.303235   157.508933\n",
            "Arkansas               66.811452   194.635500\n",
            "California             38.171608   228.729451\n",
            "Colorado              -35.867351   176.418231\n",
            "Connecticut            42.823071   163.223866\n",
            "Delaware              103.930988   285.948635\n",
            "District of Columbia  105.958930   286.502000\n",
            "Florida                -8.875461   233.612815\n",
            "Georgia                88.315453   266.825217\n",
            "Idaho                  39.367767   208.689810\n",
            "Illinois              -25.625787   162.939230\n",
            "Indiana               123.375411   359.431946\n",
            "Iowa                   39.460397   152.658667\n",
            "Kansas                 34.851813   121.429583\n",
            "Kentucky               80.573357   263.250000\n",
            "Louisiana              52.288150   219.453095\n",
            "Maine                  56.810775   158.816250\n",
            "Maryland               66.963608   225.766886\n",
            "Massachusetts          50.262975   212.106919\n",
            "Michigan               95.934069   299.096525\n",
            "Minnesota             121.608847   335.541011\n",
            "Mississippi            59.867475   203.232830\n",
            "Missouri               97.518341   336.441667\n",
            "Montana               122.221900   372.623467\n",
            "Nebraska               53.607742   196.445526\n",
            "Nevada                 85.045279   428.951333\n",
            "New Hampshire          63.203807   270.093481\n",
            "New Jersey             75.176260   275.110092\n",
            "New Mexico             31.273408   129.284378\n",
            "New York               65.637011   275.599531\n",
            "North Carolina        -30.083985   223.305880\n",
            "North Dakota           32.878529   131.415714\n",
            "Ohio                  -36.186304   166.861697\n",
            "Oklahoma               73.544788   298.233182\n",
            "Oregon                 -9.600569   140.573790\n",
            "Pennsylvania          -26.507598   198.487077\n",
            "Rhode Island          130.100523   404.070643\n",
            "South Carolina         42.120395   201.945476\n",
            "South Dakota           32.902358   109.630000\n",
            "Tennessee             -29.189583   167.551219\n",
            "Texas                 -26.121174   172.779742\n",
            "Utah                   48.047802   211.699170\n",
            "Vermont               204.088936   811.760909\n",
            "Virginia               83.026564   315.342500\n",
            "Washington             66.013146   273.994605\n",
            "West Virginia          46.480400   302.456000\n",
            "Wisconsin              76.380004   291.951000\n",
            "Wyoming               100.196000  1603.136000\n"
          ]
        },
        {
          "output_type": "stream",
          "name": "stderr",
          "text": [
            "<ipython-input-51-16beb9c70969>:2: FutureWarning: Indexing with multiple keys (implicitly converted to a tuple of keys) will be deprecated, use a list instead.\n",
            "  state_average_profit_sales = state_group[\"Profit\", \"Sales\"].mean()\n"
          ]
        }
      ]
    },
    {
      "cell_type": "code",
      "source": [
        "state_profit_sum = state_group[\"Profit\", \"Sales\"].sum().sort_values(by=\"Profit\", ascending=False)\n",
        "print(state_profit_sum)"
      ],
      "metadata": {
        "colab": {
          "base_uri": "https://localhost:8080/"
        },
        "id": "QwaPUjSD_2lb",
        "outputId": "f6f7445a-524b-4492-ca01-c712f7d43dc3"
      },
      "execution_count": null,
      "outputs": [
        {
          "output_type": "stream",
          "name": "stdout",
          "text": [
            "                          Profit        Sales\n",
            "State                                        \n",
            "California            76381.3871  457687.6315\n",
            "New York              74038.5486  310876.2710\n",
            "Washington            33402.6517  138641.2700\n",
            "Michigan              24463.1876   76269.6140\n",
            "Virginia              18597.9504   70636.7200\n",
            "Indiana               18382.9363   53555.3600\n",
            "Georgia               16250.0433   49095.8400\n",
            "Kentucky              11199.6966   36591.7500\n",
            "Minnesota             10823.1874   29863.1500\n",
            "Delaware               9977.3748   27451.0690\n",
            "New Jersey             9772.9138   35764.3120\n",
            "Wisconsin              8401.8004   32114.6100\n",
            "Rhode Island           7285.6293   22627.9560\n",
            "Maryland               7031.1788   23705.5230\n",
            "Massachusetts          6785.5016   28634.4340\n",
            "Missouri               6436.2105   22205.1500\n",
            "Alabama                5786.8253   19510.6400\n",
            "Oklahoma               4853.9560   19683.3900\n",
            "Arkansas               4008.6871   11678.1300\n",
            "Connecticut            3511.4918   13384.3570\n",
            "Nevada                 3316.7659   16729.1020\n",
            "Mississippi            3172.9762   10771.3400\n",
            "Utah                   2546.5335   11220.0560\n",
            "Vermont                2244.9783    8929.3700\n",
            "Louisiana              2196.1023    9217.0300\n",
            "Nebraska               2037.0942    7464.9300\n",
            "Montana                1833.3285    5589.3520\n",
            "South Carolina         1769.0566    8481.7100\n",
            "New Hampshire          1706.5028    7292.5240\n",
            "Iowa                   1183.8119    4579.7600\n",
            "New Mexico             1157.1161    4783.5220\n",
            "District of Columbia   1059.5893    2865.0200\n",
            "Kansas                  836.4435    2914.3100\n",
            "Idaho                   826.7231    4382.4860\n",
            "Maine                   454.4862    1270.5300\n",
            "South Dakota            394.8283    1315.5600\n",
            "North Dakota            230.1497     919.9100\n",
            "West Virginia           185.9216    1209.8240\n",
            "Wyoming                 100.1960    1603.1360\n",
            "Oregon                -1190.4705   17431.1500\n",
            "Florida               -3399.3017   89473.7080\n",
            "Arizona               -3427.9246   35282.0010\n",
            "Tennessee             -5341.6936   30661.8730\n",
            "Colorado              -6527.8579   32108.1180\n",
            "North Carolina        -7490.9122   55603.1640\n",
            "Illinois             -12607.8870   80166.1010\n",
            "Pennsylvania         -15559.9603  116511.9140\n",
            "Ohio                 -16971.3766   78258.1360\n",
            "Texas                -25729.3563  170188.0458\n"
          ]
        },
        {
          "output_type": "stream",
          "name": "stderr",
          "text": [
            "<ipython-input-29-4f65f7c0c209>:1: FutureWarning: Indexing with multiple keys (implicitly converted to a tuple of keys) will be deprecated, use a list instead.\n",
            "  state_profit_sum = state_group[\"Profit\", \"Sales\"].sum().sort_values(by=\"Profit\", ascending=False)\n"
          ]
        }
      ]
    },
    {
      "cell_type": "code",
      "source": [
        "fig, chart = plt.subplots(figsize=(15,20))\n",
        "chart.plot(state_profit_sum.index, state_profit_sum['Sales'], color='blue', label='Sales')\n",
        "chart.plot(state_profit_sum.index, state_profit_sum['Profit'], color='green', label='Profit')\n",
        "\n",
        "chart.set_xlabel('State')\n",
        "chart.set_ylabel('Amount')\n",
        "chart.set_title('Sales and Profit')\n",
        "chart.legend()\n",
        "\n",
        "chart.set_xticklabels(state_profit_sum.index,rotation=45,ha='right')\n",
        "\n",
        "plt.show()\n"
      ],
      "metadata": {
        "colab": {
          "base_uri": "https://localhost:8080/",
          "height": 1000
        },
        "id": "HD1x0RvqTNAG",
        "outputId": "2d245d95-4143-4bbd-908b-c2b49c41e8b3"
      },
      "execution_count": null,
      "outputs": [
        {
          "output_type": "stream",
          "name": "stderr",
          "text": [
            "<ipython-input-63-86160721f240>:10: UserWarning: FixedFormatter should only be used together with FixedLocator\n",
            "  chart.set_xticklabels(state_profit_sum.index,rotation=45,ha='right')\n"
          ]
        },
        {
          "output_type": "display_data",
          "data": {
            "text/plain": [
              "<Figure size 1080x1440 with 1 Axes>"
            ],
            "image/png": "[encoded data removed]"
          },
          "metadata": {
            "needs_background": "light"
          }
        }
      ]
    },
    {
      "cell_type": "markdown",
      "source": [
        "using groupby to create a list of the top 5 categories by total sales:\n",
        "\n",
        "---\n",
        "\n"
      ],
      "metadata": {
        "id": "KJQaEfJeJBWx"
      }
    },
    {
      "cell_type": "code",
      "source": [
        "sales_by_category = sales_df.groupby('Sub-Category')['Sales'].sum()\n",
        "top_categories_list = sales_by_category.nlargest(5).index.tolist()\n",
        "print(top_categories_list)"
      ],
      "metadata": {
        "colab": {
          "base_uri": "https://localhost:8080/"
        },
        "id": "H_kB7X6QI2Xe",
        "outputId": "c26fe88a-3da4-4941-8e9b-6484c22d6eaa"
      },
      "execution_count": null,
      "outputs": [
        {
          "output_type": "stream",
          "name": "stdout",
          "text": [
            "['Phones', 'Chairs', 'Storage', 'Tables', 'Binders']\n"
          ]
        }
      ]
    },
    {
      "cell_type": "code",
      "source": [
        "import matplotlib.pyplot as plt\n",
        "\n",
        "category_region_sales = sales_df.groupby(['Category', 'Region'])['Sales'].sum()\n",
        "category_region_profit = sales_df.groupby(['Category', 'Region'])['Profit'].sum()\n",
        "\n",
        "subcat_region_sales = sales_df.groupby(['Sub-Category', 'Region'])['Sales'].sum()\n",
        "subcat_region_profit = sales_df.groupby(['Sub-Category', 'Region'])['Profit'].sum()\n",
        "\n",
        "fig, ax = plt.subplots(nrows=2, ncols=1, figsize=(16, 12))\n",
        "category_region_sales.unstack().plot(kind='bar', stacked=True, ax=ax[0], title='Total Sales by Region and Category')\n",
        "category_region_profit.unstack().plot(kind='bar', stacked=True, ax=ax[1], title='Total Profit by Region and Category')\n",
        "plt.tight_layout()\n",
        "\n",
        "fig, ax = plt.subplots(nrows=2, ncols=1, figsize=(16, 12))\n",
        "subcat_region_sales.unstack().plot(kind='bar', stacked=True, ax=ax[0], title='Total Sales by Region and Sub-Category')\n",
        "subcat_region_profit.unstack().plot(kind='bar', stacked=True, ax=ax[1], title='Total Profit by Region and Sub-Category')\n",
        "plt.tight_layout()\n",
        "\n",
        "plt.show()\n"
      ],
      "metadata": {
        "colab": {
          "base_uri": "https://localhost:8080/",
          "height": 1000
        },
        "id": "FqpP5-OglPLf",
        "outputId": "1e88333b-a88a-4161-d477-575e2ff5e686"
      },
      "execution_count": null,
      "outputs": [
        {
          "output_type": "display_data",
          "data": {
            "text/plain": [
              "<Figure size 1152x864 with 2 Axes>"
            ],
            "image/png": "[encoded data removed]"
          },
          "metadata": {
            "needs_background": "light"
          }
        },
        {
          "output_type": "display_data",
          "data": {
            "text/plain": [
              "<Figure size 1152x864 with 2 Axes>"
            ],
            "image/png": "[encoded data removed]"
          },
          "metadata": {
            "needs_background": "light"
          }
        }
      ]
    },
    {
      "cell_type": "code",
      "source": [
        "sales_df.groupby(['Category', 'Sub-Category'])['Quantity'].sum()"
      ],
      "metadata": {
        "colab": {
          "base_uri": "https://localhost:8080/"
        },
        "id": "qB6JhRHzp37D",
        "outputId": "108b27be-2f63-4ba7-a791-c61405c09ae4"
      },
      "execution_count": null,
      "outputs": [
        {
          "output_type": "execute_result",
          "data": {
            "text/plain": [
              "Category         Sub-Category\n",
              "Furniture        Bookcases        868\n",
              "                 Chairs          2356\n",
              "                 Furnishings     3563\n",
              "                 Tables          1241\n",
              "Office Supplies  Appliances      1729\n",
              "                 Art             3000\n",
              "                 Binders         5974\n",
              "                 Envelopes        906\n",
              "                 Fasteners        914\n",
              "                 Labels          1400\n",
              "                 Paper           5178\n",
              "                 Storage         3158\n",
              "                 Supplies         647\n",
              "Technology       Accessories     2976\n",
              "                 Copiers          234\n",
              "                 Machines         440\n",
              "                 Phones          3289\n",
              "Name: Quantity, dtype: int64"
            ]
          },
          "metadata": {},
          "execution_count": 31
        }
      ]
    },
    {
      "cell_type": "code",
      "source": [
        "def category_data(df, category):\n",
        "    category_df = df[df['Category'] == category]\n",
        "    results = category_df.groupby('Sub-Category').agg({'Sales': 'sum', 'Quantity': 'sum', 'Profit': 'sum'})\n",
        "    return results\n",
        "\n",
        "furniture_sales = category_data(sales_df, 'Furniture')\n",
        "print(furniture_sales)\n",
        "print(\"__________\")\n",
        "\n",
        "office_supplies_sales = category_data(sales_df, 'Office Supplies')\n",
        "print(office_supplies_sales)\n",
        "print(\"__________\")\n",
        "\n",
        "technology_sales = category_data(sales_df, 'Technology')\n",
        "print(technology_sales)"
      ],
      "metadata": {
        "id": "pmWcfYHNp--l",
        "colab": {
          "base_uri": "https://localhost:8080/"
        },
        "outputId": "49bdb795-32f0-42f3-a586-0f3fe784cb39"
      },
      "execution_count": null,
      "outputs": [
        {
          "output_type": "stream",
          "name": "stdout",
          "text": [
            "                    Sales  Quantity      Profit\n",
            "Sub-Category                                   \n",
            "Bookcases     114879.9963       868  -3472.5560\n",
            "Chairs        328449.1030      2356  26590.1663\n",
            "Furnishings    91705.1640      3563  13059.1436\n",
            "Tables        206965.5320      1241 -17725.4811\n",
            "__________\n",
            "                   Sales  Quantity      Profit\n",
            "Sub-Category                                  \n",
            "Appliances    107532.161      1729  18138.0054\n",
            "Art            27118.792      3000   6527.7870\n",
            "Binders       203412.733      5974  30221.7633\n",
            "Envelopes      16476.402       906   6964.1767\n",
            "Fasteners       3024.280       914    949.5182\n",
            "Labels         12486.312      1400   5546.2540\n",
            "Paper          78479.206      5178  34053.5693\n",
            "Storage       223843.608      3158  21278.8264\n",
            "Supplies       46673.538       647  -1189.0995\n",
            "__________\n",
            "                   Sales  Quantity      Profit\n",
            "Sub-Category                                  \n",
            "Accessories   167380.318      2976  41936.6357\n",
            "Copiers       149528.030       234  55617.8249\n",
            "Machines      189238.631       440   3384.7569\n",
            "Phones        330007.054      3289  44515.7306\n"
          ]
        }
      ]
    },
    {
      "cell_type": "code",
      "source": [
        "def modify_category_data(df, category):\n",
        "    category_df = df[df['Category'] == category]\n",
        "    modified_results = category_df.groupby(['State', 'Sub-Category']).agg({'Sales': 'sum', 'Quantity': 'sum', 'Profit': 'sum'})\n",
        "    return modified_results\n",
        "modified_results = modify_category_data(sales_df, 'Technology')\n",
        "print(modified_results)\n"
      ],
      "metadata": {
        "colab": {
          "base_uri": "https://localhost:8080/"
        },
        "id": "ofnBsAmNNKiB",
        "outputId": "0fb803b0-6c23-4039-82d7-800a89b6688b"
      },
      "execution_count": null,
      "outputs": [
        {
          "output_type": "stream",
          "name": "stdout",
          "text": [
            "                             Sales  Quantity     Profit\n",
            "State      Sub-Category                                \n",
            "Alabama    Accessories    2322.830        24   816.4346\n",
            "           Copiers         899.970         3   314.9895\n",
            "           Machines       3040.000         8  1459.2000\n",
            "           Phones         2706.280        18   707.1788\n",
            "Arizona    Accessories    3396.160        85   224.7694\n",
            "...                            ...       ...        ...\n",
            "Washington Copiers       20249.830        17  9442.4242\n",
            "           Machines       6066.152        21   615.0637\n",
            "           Phones         9101.568       116   698.5820\n",
            "Wisconsin  Accessories    4795.480        64  1501.1720\n",
            "           Phones         4002.680        40  1095.8977\n",
            "\n",
            "[136 rows x 3 columns]\n"
          ]
        }
      ]
    },
    {
      "cell_type": "code",
      "source": [
        "modified_results.to_csv('sub_category_results.csv')\n"
      ],
      "metadata": {
        "id": "nQcdauKdVTos"
      },
      "execution_count": null,
      "outputs": []
    },
    {
      "cell_type": "code",
      "source": [
        "sales_df[['Quantity']].describe()"
      ],
      "metadata": {
        "colab": {
          "base_uri": "https://localhost:8080/",
          "height": 297
        },
        "id": "Dfoz15HB74mc",
        "outputId": "06c290d2-8307-46a8-b8b9-1feb6f644080"
      },
      "execution_count": null,
      "outputs": [
        {
          "output_type": "execute_result",
          "data": {
            "text/plain": [
              "          Quantity\n",
              "count  9994.000000\n",
              "mean      3.789574\n",
              "std       2.225110\n",
              "min       1.000000\n",
              "25%       2.000000\n",
              "50%       3.000000\n",
              "75%       5.000000\n",
              "max      14.000000"
            ],
            "text/html": [
              "\n",
              "  <div id=\"df-0d7f6367-3afe-4ee2-aef6-1c2b6faa9f2b\">\n",
              "    <div class=\"colab-df-container\">\n",
              "      <div>\n",
              "<style scoped>\n",
              "    .dataframe tbody tr th:only-of-type {\n",
              "        vertical-align: middle;\n",
              "    }\n",
              "\n",
              "    .dataframe tbody tr th {\n",
              "        vertical-align: top;\n",
              "    }\n",
              "\n",
              "    .dataframe thead th {\n",
              "        text-align: right;\n",
              "    }\n",
              "</style>\n",
              "<table border=\"1\" class=\"dataframe\">\n",
              "  <thead>\n",
              "    <tr style=\"text-align: right;\">\n",
              "      <th></th>\n",
              "      <th>Quantity</th>\n",
              "    </tr>\n",
              "  </thead>\n",
              "  <tbody>\n",
              "    <tr>\n",
              "      <th>count</th>\n",
              "      <td>9994.000000</td>\n",
              "    </tr>\n",
              "    <tr>\n",
              "      <th>mean</th>\n",
              "      <td>3.789574</td>\n",
              "    </tr>\n",
              "    <tr>\n",
              "      <th>std</th>\n",
              "      <td>2.225110</td>\n",
              "    </tr>\n",
              "    <tr>\n",
              "      <th>min</th>\n",
              "      <td>1.000000</td>\n",
              "    </tr>\n",
              "    <tr>\n",
              "      <th>25%</th>\n",
              "      <td>2.000000</td>\n",
              "    </tr>\n",
              "    <tr>\n",
              "      <th>50%</th>\n",
              "      <td>3.000000</td>\n",
              "    </tr>\n",
              "    <tr>\n",
              "      <th>75%</th>\n",
              "      <td>5.000000</td>\n",
              "    </tr>\n",
              "    <tr>\n",
              "      <th>max</th>\n",
              "      <td>14.000000</td>\n",
              "    </tr>\n",
              "  </tbody>\n",
              "</table>\n",
              "</div>\n",
              "      <button class=\"colab-df-convert\" onclick=\"convertToInteractive('df-0d7f6367-3afe-4ee2-aef6-1c2b6faa9f2b')\"\n",
              "              title=\"Convert this dataframe to an interactive table.\"\n",
              "              style=\"display:none;\">\n",
              "        \n",
              "  <svg xmlns=\"http://www.w3.org/2000/svg\" height=\"24px\"viewBox=\"0 0 24 24\"\n",
              "       width=\"24px\">\n",
              "    <path d=\"M0 0h24v24H0V0z\" fill=\"none\"/>\n",
              "    <path d=\"M18.56 5.44l.94 2.06.94-2.06 2.06-.94-2.06-.94-.94-2.06-.94 2.06-2.06.94zm-11 1L8.5 8.5l.94-2.06 2.06-.94-2.06-.94L8.5 2.5l-.94 2.06-2.06.94zm10 10l.94 2.06.94-2.06 2.06-.94-2.06-.94-.94-2.06-.94 2.06-2.06.94z\"/><path d=\"M17.41 7.96l-1.37-1.37c-.4-.4-.92-.59-1.43-.59-.52 0-1.04.2-1.43.59L10.3 9.45l-7.72 7.72c-.78.78-.78 2.05 0 2.83L4 21.41c.39.39.9.59 1.41.59.51 0 1.02-.2 1.41-.59l7.78-7.78 2.81-2.81c.8-.78.8-2.07 0-2.86zM5.41 20L4 18.59l7.72-7.72 1.47 1.35L5.41 20z\"/>\n",
              "  </svg>\n",
              "      </button>\n",
              "      \n",
              "  <style>\n",
              "    .colab-df-container {\n",
              "      display:flex;\n",
              "      flex-wrap:wrap;\n",
              "      gap: 12px;\n",
              "    }\n",
              "\n",
              "    .colab-df-convert {\n",
              "      background-color: #E8F0FE;\n",
              "      border: none;\n",
              "      border-radius: 50%;\n",
              "      cursor: pointer;\n",
              "      display: none;\n",
              "      fill: #1967D2;\n",
              "      height: 32px;\n",
              "      padding: 0 0 0 0;\n",
              "      width: 32px;\n",
              "    }\n",
              "\n",
              "    .colab-df-convert:hover {\n",
              "      background-color: #E2EBFA;\n",
              "      box-shadow: 0px 1px 2px rgba(60, 64, 67, 0.3), 0px 1px 3px 1px rgba(60, 64, 67, 0.15);\n",
              "      fill: #174EA6;\n",
              "    }\n",
              "\n",
              "    [theme=dark] .colab-df-convert {\n",
              "      background-color: #3B4455;\n",
              "      fill: #D2E3FC;\n",
              "    }\n",
              "\n",
              "    [theme=dark] .colab-df-convert:hover {\n",
              "      background-color: #434B5C;\n",
              "      box-shadow: 0px 1px 3px 1px rgba(0, 0, 0, 0.15);\n",
              "      filter: drop-shadow(0px 1px 2px rgba(0, 0, 0, 0.3));\n",
              "      fill: #FFFFFF;\n",
              "    }\n",
              "  </style>\n",
              "\n",
              "      <script>\n",
              "        const buttonEl =\n",
              "          document.querySelector('#df-0d7f6367-3afe-4ee2-aef6-1c2b6faa9f2b button.colab-df-convert');\n",
              "        buttonEl.style.display =\n",
              "          google.colab.kernel.accessAllowed ? 'block' : 'none';\n",
              "\n",
              "        async function convertToInteractive(key) {\n",
              "          const element = document.querySelector('#df-0d7f6367-3afe-4ee2-aef6-1c2b6faa9f2b');\n",
              "          const dataTable =\n",
              "            await google.colab.kernel.invokeFunction('convertToInteractive',\n",
              "                                                     [key], {});\n",
              "          if (!dataTable) return;\n",
              "\n",
              "          const docLinkHtml = 'Like what you see? Visit the ' +\n",
              "            '<a target=\"_blank\" href=https://colab.research.google.com/notebooks/data_table.ipynb>data table notebook</a>'\n",
              "            + ' to learn more about interactive tables.';\n",
              "          element.innerHTML = '';\n",
              "          dataTable['output_type'] = 'display_data';\n",
              "          await google.colab.output.renderOutput(dataTable, element);\n",
              "          const docLink = document.createElement('div');\n",
              "          docLink.innerHTML = docLinkHtml;\n",
              "          element.appendChild(docLink);\n",
              "        }\n",
              "      </script>\n",
              "    </div>\n",
              "  </div>\n",
              "  "
            ]
          },
          "metadata": {},
          "execution_count": 13
        }
      ]
    },
    {
      "cell_type": "code",
      "source": [
        "def quantity_segment (quantity):\n",
        "    if quantity == 1:\n",
        "        return 'Single Item'\n",
        "    elif quantity <= 3:\n",
        "        return 'Small Order'\n",
        "    elif quantity <= 5:\n",
        "        return 'Medium Order'\n",
        "    else:\n",
        "        return 'Large Order'\n",
        "        \n",
        "sales_df['Quantity Segment'] = sales_df['Quantity'].apply(quantity_segment)\n"
      ],
      "metadata": {
        "id": "CzsPQsSoRbpW"
      },
      "execution_count": null,
      "outputs": []
    },
    {
      "cell_type": "code",
      "source": [
        "sales_df.head()"
      ],
      "metadata": {
        "colab": {
          "base_uri": "https://localhost:8080/",
          "height": 204
        },
        "id": "suk6TrQIEQDN",
        "outputId": "4a68cc4f-786f-400a-f033-341f3a087ee2"
      },
      "execution_count": null,
      "outputs": [
        {
          "output_type": "execute_result",
          "data": {
            "text/plain": [
              "        Ship Mode    Segment             City       State Region  \\\n",
              "0    Second Class   Consumer        Henderson    Kentucky  South   \n",
              "1    Second Class   Consumer        Henderson    Kentucky  South   \n",
              "2    Second Class  Corporate      Los Angeles  California   West   \n",
              "3  Standard Class   Consumer  Fort Lauderdale     Florida  South   \n",
              "4  Standard Class   Consumer  Fort Lauderdale     Florida  South   \n",
              "\n",
              "          Category Sub-Category     Sales  Quantity  Discount    Profit  \\\n",
              "0        Furniture    Bookcases  261.9600         2      0.00   41.9136   \n",
              "1        Furniture       Chairs  731.9400         3      0.00  219.5820   \n",
              "2  Office Supplies       Labels   14.6200         2      0.00    6.8714   \n",
              "3        Furniture       Tables  957.5775         5      0.45 -383.0310   \n",
              "4  Office Supplies      Storage   22.3680         2      0.20    2.5164   \n",
              "\n",
              "  Quantity Segment  \n",
              "0      Small Order  \n",
              "1      Small Order  \n",
              "2      Small Order  \n",
              "3     Medium Order  \n",
              "4      Small Order  "
            ],
            "text/html": [
              "\n",
              "  <div id=\"df-59c0cd49-7ce2-48c5-8188-432ca8249e65\">\n",
              "    <div class=\"colab-df-container\">\n",
              "      <div>\n",
              "<style scoped>\n",
              "    .dataframe tbody tr th:only-of-type {\n",
              "        vertical-align: middle;\n",
              "    }\n",
              "\n",
              "    .dataframe tbody tr th {\n",
              "        vertical-align: top;\n",
              "    }\n",
              "\n",
              "    .dataframe thead th {\n",
              "        text-align: right;\n",
              "    }\n",
              "</style>\n",
              "<table border=\"1\" class=\"dataframe\">\n",
              "  <thead>\n",
              "    <tr style=\"text-align: right;\">\n",
              "      <th></th>\n",
              "      <th>Ship Mode</th>\n",
              "      <th>Segment</th>\n",
              "      <th>City</th>\n",
              "      <th>State</th>\n",
              "      <th>Region</th>\n",
              "      <th>Category</th>\n",
              "      <th>Sub-Category</th>\n",
              "      <th>Sales</th>\n",
              "      <th>Quantity</th>\n",
              "      <th>Discount</th>\n",
              "      <th>Profit</th>\n",
              "      <th>Quantity Segment</th>\n",
              "    </tr>\n",
              "  </thead>\n",
              "  <tbody>\n",
              "    <tr>\n",
              "      <th>0</th>\n",
              "      <td>Second Class</td>\n",
              "      <td>Consumer</td>\n",
              "      <td>Henderson</td>\n",
              "      <td>Kentucky</td>\n",
              "      <td>South</td>\n",
              "      <td>Furniture</td>\n",
              "      <td>Bookcases</td>\n",
              "      <td>261.9600</td>\n",
              "      <td>2</td>\n",
              "      <td>0.00</td>\n",
              "      <td>41.9136</td>\n",
              "      <td>Small Order</td>\n",
              "    </tr>\n",
              "    <tr>\n",
              "      <th>1</th>\n",
              "      <td>Second Class</td>\n",
              "      <td>Consumer</td>\n",
              "      <td>Henderson</td>\n",
              "      <td>Kentucky</td>\n",
              "      <td>South</td>\n",
              "      <td>Furniture</td>\n",
              "      <td>Chairs</td>\n",
              "      <td>731.9400</td>\n",
              "      <td>3</td>\n",
              "      <td>0.00</td>\n",
              "      <td>219.5820</td>\n",
              "      <td>Small Order</td>\n",
              "    </tr>\n",
              "    <tr>\n",
              "      <th>2</th>\n",
              "      <td>Second Class</td>\n",
              "      <td>Corporate</td>\n",
              "      <td>Los Angeles</td>\n",
              "      <td>California</td>\n",
              "      <td>West</td>\n",
              "      <td>Office Supplies</td>\n",
              "      <td>Labels</td>\n",
              "      <td>14.6200</td>\n",
              "      <td>2</td>\n",
              "      <td>0.00</td>\n",
              "      <td>6.8714</td>\n",
              "      <td>Small Order</td>\n",
              "    </tr>\n",
              "    <tr>\n",
              "      <th>3</th>\n",
              "      <td>Standard Class</td>\n",
              "      <td>Consumer</td>\n",
              "      <td>Fort Lauderdale</td>\n",
              "      <td>Florida</td>\n",
              "      <td>South</td>\n",
              "      <td>Furniture</td>\n",
              "      <td>Tables</td>\n",
              "      <td>957.5775</td>\n",
              "      <td>5</td>\n",
              "      <td>0.45</td>\n",
              "      <td>-383.0310</td>\n",
              "      <td>Medium Order</td>\n",
              "    </tr>\n",
              "    <tr>\n",
              "      <th>4</th>\n",
              "      <td>Standard Class</td>\n",
              "      <td>Consumer</td>\n",
              "      <td>Fort Lauderdale</td>\n",
              "      <td>Florida</td>\n",
              "      <td>South</td>\n",
              "      <td>Office Supplies</td>\n",
              "      <td>Storage</td>\n",
              "      <td>22.3680</td>\n",
              "      <td>2</td>\n",
              "      <td>0.20</td>\n",
              "      <td>2.5164</td>\n",
              "      <td>Small Order</td>\n",
              "    </tr>\n",
              "  </tbody>\n",
              "</table>\n",
              "</div>\n",
              "      <button class=\"colab-df-convert\" onclick=\"convertToInteractive('df-59c0cd49-7ce2-48c5-8188-432ca8249e65')\"\n",
              "              title=\"Convert this dataframe to an interactive table.\"\n",
              "              style=\"display:none;\">\n",
              "        \n",
              "  <svg xmlns=\"http://www.w3.org/2000/svg\" height=\"24px\"viewBox=\"0 0 24 24\"\n",
              "       width=\"24px\">\n",
              "    <path d=\"M0 0h24v24H0V0z\" fill=\"none\"/>\n",
              "    <path d=\"M18.56 5.44l.94 2.06.94-2.06 2.06-.94-2.06-.94-.94-2.06-.94 2.06-2.06.94zm-11 1L8.5 8.5l.94-2.06 2.06-.94-2.06-.94L8.5 2.5l-.94 2.06-2.06.94zm10 10l.94 2.06.94-2.06 2.06-.94-2.06-.94-.94-2.06-.94 2.06-2.06.94z\"/><path d=\"M17.41 7.96l-1.37-1.37c-.4-.4-.92-.59-1.43-.59-.52 0-1.04.2-1.43.59L10.3 9.45l-7.72 7.72c-.78.78-.78 2.05 0 2.83L4 21.41c.39.39.9.59 1.41.59.51 0 1.02-.2 1.41-.59l7.78-7.78 2.81-2.81c.8-.78.8-2.07 0-2.86zM5.41 20L4 18.59l7.72-7.72 1.47 1.35L5.41 20z\"/>\n",
              "  </svg>\n",
              "      </button>\n",
              "      \n",
              "  <style>\n",
              "    .colab-df-container {\n",
              "      display:flex;\n",
              "      flex-wrap:wrap;\n",
              "      gap: 12px;\n",
              "    }\n",
              "\n",
              "    .colab-df-convert {\n",
              "      background-color: #E8F0FE;\n",
              "      border: none;\n",
              "      border-radius: 50%;\n",
              "      cursor: pointer;\n",
              "      display: none;\n",
              "      fill: #1967D2;\n",
              "      height: 32px;\n",
              "      padding: 0 0 0 0;\n",
              "      width: 32px;\n",
              "    }\n",
              "\n",
              "    .colab-df-convert:hover {\n",
              "      background-color: #E2EBFA;\n",
              "      box-shadow: 0px 1px 2px rgba(60, 64, 67, 0.3), 0px 1px 3px 1px rgba(60, 64, 67, 0.15);\n",
              "      fill: #174EA6;\n",
              "    }\n",
              "\n",
              "    [theme=dark] .colab-df-convert {\n",
              "      background-color: #3B4455;\n",
              "      fill: #D2E3FC;\n",
              "    }\n",
              "\n",
              "    [theme=dark] .colab-df-convert:hover {\n",
              "      background-color: #434B5C;\n",
              "      box-shadow: 0px 1px 3px 1px rgba(0, 0, 0, 0.15);\n",
              "      filter: drop-shadow(0px 1px 2px rgba(0, 0, 0, 0.3));\n",
              "      fill: #FFFFFF;\n",
              "    }\n",
              "  </style>\n",
              "\n",
              "      <script>\n",
              "        const buttonEl =\n",
              "          document.querySelector('#df-59c0cd49-7ce2-48c5-8188-432ca8249e65 button.colab-df-convert');\n",
              "        buttonEl.style.display =\n",
              "          google.colab.kernel.accessAllowed ? 'block' : 'none';\n",
              "\n",
              "        async function convertToInteractive(key) {\n",
              "          const element = document.querySelector('#df-59c0cd49-7ce2-48c5-8188-432ca8249e65');\n",
              "          const dataTable =\n",
              "            await google.colab.kernel.invokeFunction('convertToInteractive',\n",
              "                                                     [key], {});\n",
              "          if (!dataTable) return;\n",
              "\n",
              "          const docLinkHtml = 'Like what you see? Visit the ' +\n",
              "            '<a target=\"_blank\" href=https://colab.research.google.com/notebooks/data_table.ipynb>data table notebook</a>'\n",
              "            + ' to learn more about interactive tables.';\n",
              "          element.innerHTML = '';\n",
              "          dataTable['output_type'] = 'display_data';\n",
              "          await google.colab.output.renderOutput(dataTable, element);\n",
              "          const docLink = document.createElement('div');\n",
              "          docLink.innerHTML = docLinkHtml;\n",
              "          element.appendChild(docLink);\n",
              "        }\n",
              "      </script>\n",
              "    </div>\n",
              "  </div>\n",
              "  "
            ]
          },
          "metadata": {},
          "execution_count": 54
        }
      ]
    },
    {
      "cell_type": "code",
      "source": [
        "avg_quantity_by_subcat = sales_df.groupby('Sub-Category')['Quantity'].mean()\n",
        "sns.scatterplot(x='Sub-Category', y='Quantity', data=avg_quantity_by_subcat)\n",
        "plt.xticks(rotation=45, ha='right')\n",
        "plt.show()"
      ],
      "metadata": {
        "colab": {
          "base_uri": "https://localhost:8080/",
          "height": 348
        },
        "id": "Aqj06cTUIkeV",
        "outputId": "20fbc568-74f0-4b70-c34a-1f940f82af0a"
      },
      "execution_count": 49,
      "outputs": [
        {
          "output_type": "error",
          "ename": "ValueError",
          "evalue": "ignored",
          "traceback": [
            "\u001b[0;31m---------------------------------------------------------------------------\u001b[0m",
            "\u001b[0;31mValueError\u001b[0m                                Traceback (most recent call last)",
            "\u001b[0;32m<ipython-input-49-77375b880813>\u001b[0m in \u001b[0;36m<cell line: 2>\u001b[0;34m()\u001b[0m\n\u001b[1;32m      1\u001b[0m \u001b[0mavg_quantity_by_subcat\u001b[0m \u001b[0;34m=\u001b[0m \u001b[0msales_df\u001b[0m\u001b[0;34m.\u001b[0m\u001b[0mgroupby\u001b[0m\u001b[0;34m(\u001b[0m\u001b[0;34m'Sub-Category'\u001b[0m\u001b[0;34m)\u001b[0m\u001b[0;34m[\u001b[0m\u001b[0;34m'Quantity'\u001b[0m\u001b[0;34m]\u001b[0m\u001b[0;34m.\u001b[0m\u001b[0mmean\u001b[0m\u001b[0;34m(\u001b[0m\u001b[0;34m)\u001b[0m\u001b[0;34m\u001b[0m\u001b[0;34m\u001b[0m\u001b[0m\n\u001b[0;32m----> 2\u001b[0;31m \u001b[0msns\u001b[0m\u001b[0;34m.\u001b[0m\u001b[0mscatterplot\u001b[0m\u001b[0;34m(\u001b[0m\u001b[0mx\u001b[0m\u001b[0;34m=\u001b[0m\u001b[0;34m'Sub-Category'\u001b[0m\u001b[0;34m,\u001b[0m \u001b[0my\u001b[0m\u001b[0;34m=\u001b[0m\u001b[0;34m'Quantity'\u001b[0m\u001b[0;34m,\u001b[0m \u001b[0mdata\u001b[0m\u001b[0;34m=\u001b[0m\u001b[0mavg_quantity_by_subcat\u001b[0m\u001b[0;34m)\u001b[0m\u001b[0;34m\u001b[0m\u001b[0;34m\u001b[0m\u001b[0m\n\u001b[0m\u001b[1;32m      3\u001b[0m \u001b[0mplt\u001b[0m\u001b[0;34m.\u001b[0m\u001b[0mxticks\u001b[0m\u001b[0;34m(\u001b[0m\u001b[0mrotation\u001b[0m\u001b[0;34m=\u001b[0m\u001b[0;36m45\u001b[0m\u001b[0;34m,\u001b[0m \u001b[0mha\u001b[0m\u001b[0;34m=\u001b[0m\u001b[0;34m'right'\u001b[0m\u001b[0;34m)\u001b[0m\u001b[0;34m\u001b[0m\u001b[0;34m\u001b[0m\u001b[0m\n\u001b[1;32m      4\u001b[0m \u001b[0mplt\u001b[0m\u001b[0;34m.\u001b[0m\u001b[0mshow\u001b[0m\u001b[0;34m(\u001b[0m\u001b[0;34m)\u001b[0m\u001b[0;34m\u001b[0m\u001b[0;34m\u001b[0m\u001b[0m\n",
            "\u001b[0;32m/usr/local/lib/python3.9/dist-packages/seaborn/relational.py\u001b[0m in \u001b[0;36mscatterplot\u001b[0;34m(data, x, y, hue, size, style, palette, hue_order, hue_norm, sizes, size_order, size_norm, markers, style_order, legend, ax, **kwargs)\u001b[0m\n\u001b[1;32m    740\u001b[0m \u001b[0;34m\u001b[0m\u001b[0m\n\u001b[1;32m    741\u001b[0m     \u001b[0mvariables\u001b[0m \u001b[0;34m=\u001b[0m \u001b[0m_ScatterPlotter\u001b[0m\u001b[0;34m.\u001b[0m\u001b[0mget_semantics\u001b[0m\u001b[0;34m(\u001b[0m\u001b[0mlocals\u001b[0m\u001b[0;34m(\u001b[0m\u001b[0;34m)\u001b[0m\u001b[0;34m)\u001b[0m\u001b[0;34m\u001b[0m\u001b[0;34m\u001b[0m\u001b[0m\n\u001b[0;32m--> 742\u001b[0;31m     \u001b[0mp\u001b[0m \u001b[0;34m=\u001b[0m \u001b[0m_ScatterPlotter\u001b[0m\u001b[0;34m(\u001b[0m\u001b[0mdata\u001b[0m\u001b[0;34m=\u001b[0m\u001b[0mdata\u001b[0m\u001b[0;34m,\u001b[0m \u001b[0mvariables\u001b[0m\u001b[0;34m=\u001b[0m\u001b[0mvariables\u001b[0m\u001b[0;34m,\u001b[0m \u001b[0mlegend\u001b[0m\u001b[0;34m=\u001b[0m\u001b[0mlegend\u001b[0m\u001b[0;34m)\u001b[0m\u001b[0;34m\u001b[0m\u001b[0;34m\u001b[0m\u001b[0m\n\u001b[0m\u001b[1;32m    743\u001b[0m \u001b[0;34m\u001b[0m\u001b[0m\n\u001b[1;32m    744\u001b[0m     \u001b[0mp\u001b[0m\u001b[0;34m.\u001b[0m\u001b[0mmap_hue\u001b[0m\u001b[0;34m(\u001b[0m\u001b[0mpalette\u001b[0m\u001b[0;34m=\u001b[0m\u001b[0mpalette\u001b[0m\u001b[0;34m,\u001b[0m \u001b[0morder\u001b[0m\u001b[0;34m=\u001b[0m\u001b[0mhue_order\u001b[0m\u001b[0;34m,\u001b[0m \u001b[0mnorm\u001b[0m\u001b[0;34m=\u001b[0m\u001b[0mhue_norm\u001b[0m\u001b[0;34m)\u001b[0m\u001b[0;34m\u001b[0m\u001b[0;34m\u001b[0m\u001b[0m\n",
            "\u001b[0;32m/usr/local/lib/python3.9/dist-packages/seaborn/relational.py\u001b[0m in \u001b[0;36m__init__\u001b[0;34m(self, data, variables, legend)\u001b[0m\n\u001b[1;32m    536\u001b[0m         )\n\u001b[1;32m    537\u001b[0m \u001b[0;34m\u001b[0m\u001b[0m\n\u001b[0;32m--> 538\u001b[0;31m         \u001b[0msuper\u001b[0m\u001b[0;34m(\u001b[0m\u001b[0;34m)\u001b[0m\u001b[0;34m.\u001b[0m\u001b[0m__init__\u001b[0m\u001b[0;34m(\u001b[0m\u001b[0mdata\u001b[0m\u001b[0;34m=\u001b[0m\u001b[0mdata\u001b[0m\u001b[0;34m,\u001b[0m \u001b[0mvariables\u001b[0m\u001b[0;34m=\u001b[0m\u001b[0mvariables\u001b[0m\u001b[0;34m)\u001b[0m\u001b[0;34m\u001b[0m\u001b[0;34m\u001b[0m\u001b[0m\n\u001b[0m\u001b[1;32m    539\u001b[0m \u001b[0;34m\u001b[0m\u001b[0m\n\u001b[1;32m    540\u001b[0m         \u001b[0mself\u001b[0m\u001b[0;34m.\u001b[0m\u001b[0mlegend\u001b[0m \u001b[0;34m=\u001b[0m \u001b[0mlegend\u001b[0m\u001b[0;34m\u001b[0m\u001b[0;34m\u001b[0m\u001b[0m\n",
            "\u001b[0;32m/usr/local/lib/python3.9/dist-packages/seaborn/_oldcore.py\u001b[0m in \u001b[0;36m__init__\u001b[0;34m(self, data, variables)\u001b[0m\n\u001b[1;32m    638\u001b[0m         \u001b[0;31m# information for numeric axes would be information about log scales.\u001b[0m\u001b[0;34m\u001b[0m\u001b[0;34m\u001b[0m\u001b[0m\n\u001b[1;32m    639\u001b[0m         \u001b[0mself\u001b[0m\u001b[0;34m.\u001b[0m\u001b[0m_var_ordered\u001b[0m \u001b[0;34m=\u001b[0m \u001b[0;34m{\u001b[0m\u001b[0;34m\"x\"\u001b[0m\u001b[0;34m:\u001b[0m \u001b[0;32mFalse\u001b[0m\u001b[0;34m,\u001b[0m \u001b[0;34m\"y\"\u001b[0m\u001b[0;34m:\u001b[0m \u001b[0;32mFalse\u001b[0m\u001b[0;34m}\u001b[0m  \u001b[0;31m# alt., used DefaultDict\u001b[0m\u001b[0;34m\u001b[0m\u001b[0;34m\u001b[0m\u001b[0m\n\u001b[0;32m--> 640\u001b[0;31m         \u001b[0mself\u001b[0m\u001b[0;34m.\u001b[0m\u001b[0massign_variables\u001b[0m\u001b[0;34m(\u001b[0m\u001b[0mdata\u001b[0m\u001b[0;34m,\u001b[0m \u001b[0mvariables\u001b[0m\u001b[0;34m)\u001b[0m\u001b[0;34m\u001b[0m\u001b[0;34m\u001b[0m\u001b[0m\n\u001b[0m\u001b[1;32m    641\u001b[0m \u001b[0;34m\u001b[0m\u001b[0m\n\u001b[1;32m    642\u001b[0m         \u001b[0;32mfor\u001b[0m \u001b[0mvar\u001b[0m\u001b[0;34m,\u001b[0m \u001b[0mcls\u001b[0m \u001b[0;32min\u001b[0m \u001b[0mself\u001b[0m\u001b[0;34m.\u001b[0m\u001b[0m_semantic_mappings\u001b[0m\u001b[0;34m.\u001b[0m\u001b[0mitems\u001b[0m\u001b[0;34m(\u001b[0m\u001b[0;34m)\u001b[0m\u001b[0;34m:\u001b[0m\u001b[0;34m\u001b[0m\u001b[0;34m\u001b[0m\u001b[0m\n",
            "\u001b[0;32m/usr/local/lib/python3.9/dist-packages/seaborn/_oldcore.py\u001b[0m in \u001b[0;36massign_variables\u001b[0;34m(self, data, variables)\u001b[0m\n\u001b[1;32m    699\u001b[0m         \u001b[0;32melse\u001b[0m\u001b[0;34m:\u001b[0m\u001b[0;34m\u001b[0m\u001b[0;34m\u001b[0m\u001b[0m\n\u001b[1;32m    700\u001b[0m             \u001b[0mself\u001b[0m\u001b[0;34m.\u001b[0m\u001b[0minput_format\u001b[0m \u001b[0;34m=\u001b[0m \u001b[0;34m\"long\"\u001b[0m\u001b[0;34m\u001b[0m\u001b[0;34m\u001b[0m\u001b[0m\n\u001b[0;32m--> 701\u001b[0;31m             plot_data, variables = self._assign_variables_longform(\n\u001b[0m\u001b[1;32m    702\u001b[0m                 \u001b[0mdata\u001b[0m\u001b[0;34m,\u001b[0m \u001b[0;34m**\u001b[0m\u001b[0mvariables\u001b[0m\u001b[0;34m,\u001b[0m\u001b[0;34m\u001b[0m\u001b[0;34m\u001b[0m\u001b[0m\n\u001b[1;32m    703\u001b[0m             )\n",
            "\u001b[0;32m/usr/local/lib/python3.9/dist-packages/seaborn/_oldcore.py\u001b[0m in \u001b[0;36m_assign_variables_longform\u001b[0;34m(self, data, **kwargs)\u001b[0m\n\u001b[1;32m    936\u001b[0m \u001b[0;34m\u001b[0m\u001b[0m\n\u001b[1;32m    937\u001b[0m                 \u001b[0merr\u001b[0m \u001b[0;34m=\u001b[0m \u001b[0;34mf\"Could not interpret value `{val}` for parameter `{key}`\"\u001b[0m\u001b[0;34m\u001b[0m\u001b[0;34m\u001b[0m\u001b[0m\n\u001b[0;32m--> 938\u001b[0;31m                 \u001b[0;32mraise\u001b[0m \u001b[0mValueError\u001b[0m\u001b[0;34m(\u001b[0m\u001b[0merr\u001b[0m\u001b[0;34m)\u001b[0m\u001b[0;34m\u001b[0m\u001b[0;34m\u001b[0m\u001b[0m\n\u001b[0m\u001b[1;32m    939\u001b[0m \u001b[0;34m\u001b[0m\u001b[0m\n\u001b[1;32m    940\u001b[0m             \u001b[0;32melse\u001b[0m\u001b[0;34m:\u001b[0m\u001b[0;34m\u001b[0m\u001b[0;34m\u001b[0m\u001b[0m\n",
            "\u001b[0;31mValueError\u001b[0m: Could not interpret value `Quantity` for parameter `y`"
          ]
        }
      ]
    },
    {
      "cell_type": "code",
      "source": [
        "plt.figure(figsize=(10, 6))\n",
        "avg_quantity_by_subcat = sales_df.groupby('Sub-Category')['Quantity'].mean().reset_index()\n",
        "sns.scatterplot(x='Sub-Category', y='Quantity', data=avg_quantity_by_subcat)\n",
        "plt.xticks(rotation=45, ha='right')\n",
        "plt.show()"
      ],
      "metadata": {
        "colab": {
          "base_uri": "https://localhost:8080/",
          "height": 427
        },
        "id": "D86DXpGIMmCB",
        "outputId": "f2d39104-e5b4-45ff-a06f-5d708da3f514"
      },
      "execution_count": null,
      "outputs": [
        {
          "output_type": "display_data",
          "data": {
            "text/plain": [
              "<Figure size 720x432 with 1 Axes>"
            ],
            "image/png": "[encoded data removed]"
          },
          "metadata": {
            "needs_background": "light"
          }
        }
      ]
    },
    {
      "cell_type": "markdown",
      "source": [
        "for loop made to provide more information from the different customer segments"
      ],
      "metadata": {
        "id": "tNzfujYrkIqg"
      }
    },
    {
      "cell_type": "code",
      "source": [
        "segments = sales_df['Segment'].unique()\n",
        "\n",
        "for segment in segments:\n",
        "    segment_df = sales_df[sales_df['Segment'] == segment]\n",
        "    segment_sales = round(segment_df['Sales'].sum(), 2)\n",
        "    segment_profit = round(segment_df['Profit'].sum(), 2)\n",
        "    avg_discount = round(segment_df['Discount'].mean() * 100, 2)\n",
        "    print(\"Sales summary for {} segment:\".format(segment))\n",
        "    print(\"Total sales: ${}\".format(segment_sales))\n",
        "    print(\"Total profit: ${}\".format(segment_profit))\n",
        "    print(\"Average discount: {}%\".format(avg_discount))"
      ],
      "metadata": {
        "id": "XpTNmla1EDNN",
        "colab": {
          "base_uri": "https://localhost:8080/"
        },
        "outputId": "e5017f37-0cb8-4376-cff2-d40e6701715b"
      },
      "execution_count": 38,
      "outputs": [
        {
          "output_type": "stream",
          "name": "stdout",
          "text": [
            "Sales summary for Consumer segment:\n",
            "Total sales: $1161401.34\n",
            "Total profit: $134119.21\n",
            "Average discount: 15.81%\n",
            "Sales summary for Corporate segment:\n",
            "Total sales: $706146.37\n",
            "Total profit: $91979.13\n",
            "Average discount: 15.82%\n",
            "Sales summary for Home Office segment:\n",
            "Total sales: $429653.15\n",
            "Total profit: $60298.68\n",
            "Average discount: 14.71%\n"
          ]
        }
      ]
    },
    {
      "cell_type": "code",
      "source": [
        "total_sales = [round(sales_df[sales_df['Segment'] == segment]['Sales'].sum(), 2) for segment in segments]\n",
        "total_profit = [round(sales_df[sales_df['Segment'] == segment]['Profit'].sum(), 2) for segment in segments]\n",
        "avg_discount = [round(sales_df[sales_df['Segment'] == segment]['Discount'].mean() * 100, 2) for segment in segments]\n",
        "\n",
        "fig, ax = plt.subplots(1, 3, figsize=(15, 5))\n",
        "ax[0].pie(total_sales, labels=segments, autopct='%1.1f%%')\n",
        "ax[0].set_title('Total Sales by Segment')\n",
        "ax[1].pie(total_profit, labels=segments, autopct='%1.1f%%')\n",
        "ax[1].set_title('Total Profit by Segment')\n",
        "ax[2].pie(avg_discount, labels=segments, autopct='%1.1f%%')\n",
        "ax[2].set_title('Average Discount by Segment')\n",
        "plt.show()"
      ],
      "metadata": {
        "colab": {
          "base_uri": "https://localhost:8080/",
          "height": 400
        },
        "id": "SIjvGtm51Dea",
        "outputId": "74bf1ba9-0eb3-4929-9003-fc3fbae95bfd"
      },
      "execution_count": 39,
      "outputs": [
        {
          "output_type": "display_data",
          "data": {
            "text/plain": [
              "<Figure size 1500x500 with 3 Axes>"
            ],
            "image/png": "[encoded data removed]"
          },
          "metadata": {}
        }
      ]
    },
    {
      "cell_type": "code",
      "source": [
        "home_office_high_profit_df = sales_df[(sales_df['Segment'] == 'Home Office') & (sales_df['Profit'] > 500)]"
      ],
      "metadata": {
        "id": "7umPNlIV4Pms"
      },
      "execution_count": 43,
      "outputs": []
    },
    {
      "cell_type": "code",
      "source": [
        "print(home_office_high_profit_df.head())"
      ],
      "metadata": {
        "colab": {
          "base_uri": "https://localhost:8080/"
        },
        "id": "WMPo-Pz5Mu7e",
        "outputId": "37c2620e-a64a-4dd6-f44c-79169f056850"
      },
      "execution_count": 45,
      "outputs": [
        {
          "output_type": "stream",
          "name": "stdout",
          "text": [
            "          Ship Mode      Segment        Country           City      State  \\\n",
            "244    Second Class  Home Office  United States      Lakeville  Minnesota   \n",
            "318  Standard Class  Home Office  United States  New York City   New York   \n",
            "353     First Class  Home Office  United States  New York City   New York   \n",
            "515  Standard Class  Home Office  United States    Great Falls    Montana   \n",
            "910  Standard Class  Home Office  United States        Jackson   Michigan   \n",
            "\n",
            "     Postal Code   Region         Category Sub-Category     Sales  Quantity  \\\n",
            "244        55044  Central        Furniture       Chairs  2001.860         7   \n",
            "318        10024     East       Technology     Machines  3991.980         2   \n",
            "353        10009     East  Office Supplies      Binders  4355.168         4   \n",
            "515        59405     West       Technology      Copiers  2999.950         5   \n",
            "910        49201  Central       Technology  Accessories  1928.780         7   \n",
            "\n",
            "     Discount     Profit  \n",
            "244       0.0   580.5394  \n",
            "318       0.0  1995.9900  \n",
            "353       0.2  1415.4296  \n",
            "515       0.0  1379.9770  \n",
            "910       0.0   829.3754  \n"
          ]
        }
      ]
    },
    {
      "cell_type": "code",
      "source": [
        "home_off_not_tech_df = home_office_high_profit_df[home_office_high_profit_df[\"Category\"] != \"Technology\"]\n",
        "print(home_off_not_tech_df.sort_values(by=\"Profit\", ascending=False))\n"
      ],
      "metadata": {
        "colab": {
          "base_uri": "https://localhost:8080/"
        },
        "id": "vfXk-qOVQoSf",
        "outputId": "4b187476-3eb3-45d1-e018-f78460bee6a4"
      },
      "execution_count": 46,
      "outputs": [
        {
          "output_type": "stream",
          "name": "stdout",
          "text": [
            "           Ship Mode      Segment        Country             City  \\\n",
            "7683     First Class  Home Office  United States          Midland   \n",
            "7818    Second Class  Home Office  United States  North Las Vegas   \n",
            "353      First Class  Home Office  United States    New York City   \n",
            "3566  Standard Class  Home Office  United States     Independence   \n",
            "8890    Second Class  Home Office  United States         Columbia   \n",
            "7474  Standard Class  Home Office  United States        Henderson   \n",
            "8760  Standard Class  Home Office  United States          Atlanta   \n",
            "3986  Standard Class  Home Office  United States       Plainfield   \n",
            "6467  Standard Class  Home Office  United States       Providence   \n",
            "244     Second Class  Home Office  United States        Lakeville   \n",
            "9056     First Class  Home Office  United States    New York City   \n",
            "\n",
            "             State  Postal Code   Region         Category Sub-Category  \\\n",
            "7683      Michigan        48640  Central  Office Supplies      Binders   \n",
            "7818        Nevada        89031     West  Office Supplies      Binders   \n",
            "353       New York        10009     East  Office Supplies      Binders   \n",
            "3566      Missouri        64055  Central  Office Supplies      Binders   \n",
            "8890      Missouri        65203  Central  Office Supplies   Appliances   \n",
            "7474      Kentucky        42420    South        Furniture       Chairs   \n",
            "8760       Georgia        30318    South  Office Supplies      Binders   \n",
            "3986    New Jersey         7060     East  Office Supplies      Storage   \n",
            "6467  Rhode Island         2908     East  Office Supplies      Storage   \n",
            "244      Minnesota        55044  Central        Furniture       Chairs   \n",
            "9056      New York        10011     East        Furniture       Chairs   \n",
            "\n",
            "         Sales  Quantity  Discount     Profit  \n",
            "7683  3812.970         3       0.0  1906.4850  \n",
            "7818  4535.976         3       0.2  1644.2913  \n",
            "353   4355.168         4       0.2  1415.4296  \n",
            "3566  1577.940         3       0.0   757.4112  \n",
            "8890  1927.590         7       0.0   751.7601  \n",
            "7474  2573.820         9       0.0   746.4078  \n",
            "8760  1270.990         1       0.0   635.4950  \n",
            "3986  2591.560         4       0.0   621.9744  \n",
            "6467  2079.400         5       0.0   582.2320  \n",
            "244   2001.860         7       0.0   580.5394  \n",
            "9056  2621.322        11       0.1   553.3902  \n"
          ]
        }
      ]
    },
    {
      "cell_type": "code",
      "source": [
        "profit_per_item = home_off_not_tech_df.groupby(['Sub-Category']).agg({'Quantity': 'sum', 'Profit': 'sum'})\n",
        "profit_per_item['Profit_Per_Sale'] = profit_per_item['Profit'] / profit_per_item['Quantity']\n",
        "profit_per_item = profit_per_item.sort_values(by=['Profit_Per_Sale'], ascending=False)\n",
        "print(profit_per_item)\n"
      ],
      "metadata": {
        "colab": {
          "base_uri": "https://localhost:8080/"
        },
        "id": "wH65hHL-UIsc",
        "outputId": "4da91147-8954-4d10-e8de-95a2ca890714"
      },
      "execution_count": 47,
      "outputs": [
        {
          "output_type": "stream",
          "name": "stdout",
          "text": [
            "              Quantity     Profit  Profit_Per_Sale\n",
            "Sub-Category                                      \n",
            "Binders             14  6359.1121       454.222293\n",
            "Storage              9  1204.2064       133.800711\n",
            "Appliances           7   751.7601       107.394300\n",
            "Chairs              27  1880.3374        69.642126\n"
          ]
        }
      ]
    },
    {
      "cell_type": "code",
      "source": [
        "plt.figure(figsize=(10,8))\n",
        "plt.barh(profit_per_item.index, profit_per_item['Profit_Per_Sale'], color='blue')\n",
        "\n",
        "plt.xlabel('Profit per Sale')\n",
        "plt.ylabel('Sub-Category')\n",
        "plt.title('Home Office Profit per Sale for each Sub-Category, excluding Technology')\n",
        "plt.show()\n"
      ],
      "metadata": {
        "colab": {
          "base_uri": "https://localhost:8080/",
          "height": 717
        },
        "id": "dHIKpoz1W0DO",
        "outputId": "d1869e21-4337-46a0-cc58-88896b53e5a4"
      },
      "execution_count": 48,
      "outputs": [
        {
          "output_type": "display_data",
          "data": {
            "text/plain": [
              "<Figure size 1000x800 with 1 Axes>"
            ],
            "image/png": "[encoded data removed]"
          },
          "metadata": {}
        }
      ]
    },
    {
      "cell_type": "markdown",
      "source": [],
      "metadata": {
        "id": "L_mGz098WHec"
      }
    },
    {
      "cell_type": "code",
      "source": [
        "path = \"/content/drive/MyDrive/Datasets/uscities.xlsx\"\n",
        "cities_df = pd.read_excel(path)"
      ],
      "metadata": {
        "id": "_LF-4-h9bc6E"
      },
      "execution_count": 8,
      "outputs": []
    },
    {
      "cell_type": "code",
      "source": [
        "cities_df.head()"
      ],
      "metadata": {
        "colab": {
          "base_uri": "https://localhost:8080/",
          "height": 821
        },
        "id": "WosiYPdlcgf_",
        "outputId": "a9a8e02d-4e03-4ab4-cdc5-cd856ab7fb97"
      },
      "execution_count": 9,
      "outputs": [
        {
          "output_type": "execute_result",
          "data": {
            "text/plain": [
              "          city   city_ascii state_id  state_name  county_fips  county_name  \\\n",
              "0     New York     New York       NY    New York        36081       Queens   \n",
              "1  Los Angeles  Los Angeles       CA  California         6037  Los Angeles   \n",
              "2      Chicago      Chicago       IL    Illinois        17031         Cook   \n",
              "3        Miami        Miami       FL     Florida        12086   Miami-Dade   \n",
              "4       Dallas       Dallas       TX       Texas        48113       Dallas   \n",
              "\n",
              "       lat       lng  population  density source  military  incorporated  \\\n",
              "0  40.6943  -73.9249    18972871  10768.2  shape     False          True   \n",
              "1  34.1141 -118.4068    12121244   3267.6  shape     False          True   \n",
              "2  41.8375  -87.6866     8595181   4576.6  shape     False          True   \n",
              "3  25.7840  -80.2101     5711945   4945.7  shape     False          True   \n",
              "4  32.7935  -96.7667     5668165   1522.2  shape     False          True   \n",
              "\n",
              "              timezone  ranking  \\\n",
              "0     America/New_York        1   \n",
              "1  America/Los_Angeles        1   \n",
              "2      America/Chicago        1   \n",
              "3     America/New_York        1   \n",
              "4      America/Chicago        1   \n",
              "\n",
              "                                                zips          id  \n",
              "0  11229 11226 11225 11224 11223 11221 11220 1138...  1840034016  \n",
              "1  90291 90293 90292 91316 91311 90035 90034 9003...  1840020491  \n",
              "2  60018 60649 60641 60640 60643 60642 60645 6064...  1840000494  \n",
              "3  33128 33129 33125 33126 33127 33149 33144 3314...  1840015149  \n",
              "4  75287 75098 75234 75254 75251 75252 75253 7503...  1840019440  "
            ],
            "text/html": [
              "\n",
              "  <div id=\"df-dec3de06-58df-4770-a08a-f7054b4147f1\">\n",
              "    <div class=\"colab-df-container\">\n",
              "      <div>\n",
              "<style scoped>\n",
              "    .dataframe tbody tr th:only-of-type {\n",
              "        vertical-align: middle;\n",
              "    }\n",
              "\n",
              "    .dataframe tbody tr th {\n",
              "        vertical-align: top;\n",
              "    }\n",
              "\n",
              "    .dataframe thead th {\n",
              "        text-align: right;\n",
              "    }\n",
              "</style>\n",
              "<table border=\"1\" class=\"dataframe\">\n",
              "  <thead>\n",
              "    <tr style=\"text-align: right;\">\n",
              "      <th></th>\n",
              "      <th>city</th>\n",
              "      <th>city_ascii</th>\n",
              "      <th>state_id</th>\n",
              "      <th>state_name</th>\n",
              "      <th>county_fips</th>\n",
              "      <th>county_name</th>\n",
              "      <th>lat</th>\n",
              "      <th>lng</th>\n",
              "      <th>population</th>\n",
              "      <th>density</th>\n",
              "      <th>source</th>\n",
              "      <th>military</th>\n",
              "      <th>incorporated</th>\n",
              "      <th>timezone</th>\n",
              "      <th>ranking</th>\n",
              "      <th>zips</th>\n",
              "      <th>id</th>\n",
              "    </tr>\n",
              "  </thead>\n",
              "  <tbody>\n",
              "    <tr>\n",
              "      <th>0</th>\n",
              "      <td>New York</td>\n",
              "      <td>New York</td>\n",
              "      <td>NY</td>\n",
              "      <td>New York</td>\n",
              "      <td>36081</td>\n",
              "      <td>Queens</td>\n",
              "      <td>40.6943</td>\n",
              "      <td>-73.9249</td>\n",
              "      <td>18972871</td>\n",
              "      <td>10768.2</td>\n",
              "      <td>shape</td>\n",
              "      <td>False</td>\n",
              "      <td>True</td>\n",
              "      <td>America/New_York</td>\n",
              "      <td>1</td>\n",
              "      <td>11229 11226 11225 11224 11223 11221 11220 1138...</td>\n",
              "      <td>1840034016</td>\n",
              "    </tr>\n",
              "    <tr>\n",
              "      <th>1</th>\n",
              "      <td>Los Angeles</td>\n",
              "      <td>Los Angeles</td>\n",
              "      <td>CA</td>\n",
              "      <td>California</td>\n",
              "      <td>6037</td>\n",
              "      <td>Los Angeles</td>\n",
              "      <td>34.1141</td>\n",
              "      <td>-118.4068</td>\n",
              "      <td>12121244</td>\n",
              "      <td>3267.6</td>\n",
              "      <td>shape</td>\n",
              "      <td>False</td>\n",
              "      <td>True</td>\n",
              "      <td>America/Los_Angeles</td>\n",
              "      <td>1</td>\n",
              "      <td>90291 90293 90292 91316 91311 90035 90034 9003...</td>\n",
              "      <td>1840020491</td>\n",
              "    </tr>\n",
              "    <tr>\n",
              "      <th>2</th>\n",
              "      <td>Chicago</td>\n",
              "      <td>Chicago</td>\n",
              "      <td>IL</td>\n",
              "      <td>Illinois</td>\n",
              "      <td>17031</td>\n",
              "      <td>Cook</td>\n",
              "      <td>41.8375</td>\n",
              "      <td>-87.6866</td>\n",
              "      <td>8595181</td>\n",
              "      <td>4576.6</td>\n",
              "      <td>shape</td>\n",
              "      <td>False</td>\n",
              "      <td>True</td>\n",
              "      <td>America/Chicago</td>\n",
              "      <td>1</td>\n",
              "      <td>60018 60649 60641 60640 60643 60642 60645 6064...</td>\n",
              "      <td>1840000494</td>\n",
              "    </tr>\n",
              "    <tr>\n",
              "      <th>3</th>\n",
              "      <td>Miami</td>\n",
              "      <td>Miami</td>\n",
              "      <td>FL</td>\n",
              "      <td>Florida</td>\n",
              "      <td>12086</td>\n",
              "      <td>Miami-Dade</td>\n",
              "      <td>25.7840</td>\n",
              "      <td>-80.2101</td>\n",
              "      <td>5711945</td>\n",
              "      <td>4945.7</td>\n",
              "      <td>shape</td>\n",
              "      <td>False</td>\n",
              "      <td>True</td>\n",
              "      <td>America/New_York</td>\n",
              "      <td>1</td>\n",
              "      <td>33128 33129 33125 33126 33127 33149 33144 3314...</td>\n",
              "      <td>1840015149</td>\n",
              "    </tr>\n",
              "    <tr>\n",
              "      <th>4</th>\n",
              "      <td>Dallas</td>\n",
              "      <td>Dallas</td>\n",
              "      <td>TX</td>\n",
              "      <td>Texas</td>\n",
              "      <td>48113</td>\n",
              "      <td>Dallas</td>\n",
              "      <td>32.7935</td>\n",
              "      <td>-96.7667</td>\n",
              "      <td>5668165</td>\n",
              "      <td>1522.2</td>\n",
              "      <td>shape</td>\n",
              "      <td>False</td>\n",
              "      <td>True</td>\n",
              "      <td>America/Chicago</td>\n",
              "      <td>1</td>\n",
              "      <td>75287 75098 75234 75254 75251 75252 75253 7503...</td>\n",
              "      <td>1840019440</td>\n",
              "    </tr>\n",
              "  </tbody>\n",
              "</table>\n",
              "</div>\n",
              "      <button class=\"colab-df-convert\" onclick=\"convertToInteractive('df-dec3de06-58df-4770-a08a-f7054b4147f1')\"\n",
              "              title=\"Convert this dataframe to an interactive table.\"\n",
              "              style=\"display:none;\">\n",
              "        \n",
              "  <svg xmlns=\"http://www.w3.org/2000/svg\" height=\"24px\"viewBox=\"0 0 24 24\"\n",
              "       width=\"24px\">\n",
              "    <path d=\"M0 0h24v24H0V0z\" fill=\"none\"/>\n",
              "    <path d=\"M18.56 5.44l.94 2.06.94-2.06 2.06-.94-2.06-.94-.94-2.06-.94 2.06-2.06.94zm-11 1L8.5 8.5l.94-2.06 2.06-.94-2.06-.94L8.5 2.5l-.94 2.06-2.06.94zm10 10l.94 2.06.94-2.06 2.06-.94-2.06-.94-.94-2.06-.94 2.06-2.06.94z\"/><path d=\"M17.41 7.96l-1.37-1.37c-.4-.4-.92-.59-1.43-.59-.52 0-1.04.2-1.43.59L10.3 9.45l-7.72 7.72c-.78.78-.78 2.05 0 2.83L4 21.41c.39.39.9.59 1.41.59.51 0 1.02-.2 1.41-.59l7.78-7.78 2.81-2.81c.8-.78.8-2.07 0-2.86zM5.41 20L4 18.59l7.72-7.72 1.47 1.35L5.41 20z\"/>\n",
              "  </svg>\n",
              "      </button>\n",
              "      \n",
              "  <style>\n",
              "    .colab-df-container {\n",
              "      display:flex;\n",
              "      flex-wrap:wrap;\n",
              "      gap: 12px;\n",
              "    }\n",
              "\n",
              "    .colab-df-convert {\n",
              "      background-color: #E8F0FE;\n",
              "      border: none;\n",
              "      border-radius: 50%;\n",
              "      cursor: pointer;\n",
              "      display: none;\n",
              "      fill: #1967D2;\n",
              "      height: 32px;\n",
              "      padding: 0 0 0 0;\n",
              "      width: 32px;\n",
              "    }\n",
              "\n",
              "    .colab-df-convert:hover {\n",
              "      background-color: #E2EBFA;\n",
              "      box-shadow: 0px 1px 2px rgba(60, 64, 67, 0.3), 0px 1px 3px 1px rgba(60, 64, 67, 0.15);\n",
              "      fill: #174EA6;\n",
              "    }\n",
              "\n",
              "    [theme=dark] .colab-df-convert {\n",
              "      background-color: #3B4455;\n",
              "      fill: #D2E3FC;\n",
              "    }\n",
              "\n",
              "    [theme=dark] .colab-df-convert:hover {\n",
              "      background-color: #434B5C;\n",
              "      box-shadow: 0px 1px 3px 1px rgba(0, 0, 0, 0.15);\n",
              "      filter: drop-shadow(0px 1px 2px rgba(0, 0, 0, 0.3));\n",
              "      fill: #FFFFFF;\n",
              "    }\n",
              "  </style>\n",
              "\n",
              "      <script>\n",
              "        const buttonEl =\n",
              "          document.querySelector('#df-dec3de06-58df-4770-a08a-f7054b4147f1 button.colab-df-convert');\n",
              "        buttonEl.style.display =\n",
              "          google.colab.kernel.accessAllowed ? 'block' : 'none';\n",
              "\n",
              "        async function convertToInteractive(key) {\n",
              "          const element = document.querySelector('#df-dec3de06-58df-4770-a08a-f7054b4147f1');\n",
              "          const dataTable =\n",
              "            await google.colab.kernel.invokeFunction('convertToInteractive',\n",
              "                                                     [key], {});\n",
              "          if (!dataTable) return;\n",
              "\n",
              "          const docLinkHtml = 'Like what you see? Visit the ' +\n",
              "            '<a target=\"_blank\" href=https://colab.research.google.com/notebooks/data_table.ipynb>data table notebook</a>'\n",
              "            + ' to learn more about interactive tables.';\n",
              "          element.innerHTML = '';\n",
              "          dataTable['output_type'] = 'display_data';\n",
              "          await google.colab.output.renderOutput(dataTable, element);\n",
              "          const docLink = document.createElement('div');\n",
              "          docLink.innerHTML = docLinkHtml;\n",
              "          element.appendChild(docLink);\n",
              "        }\n",
              "      </script>\n",
              "    </div>\n",
              "  </div>\n",
              "  "
            ]
          },
          "metadata": {},
          "execution_count": 9
        }
      ]
    },
    {
      "cell_type": "code",
      "source": [
        "cities_df.info()"
      ],
      "metadata": {
        "colab": {
          "base_uri": "https://localhost:8080/"
        },
        "id": "AS3-jG8lfw_d",
        "outputId": "b7e3b847-d08f-4875-f135-0e6f171abc7f"
      },
      "execution_count": 10,
      "outputs": [
        {
          "output_type": "stream",
          "name": "stdout",
          "text": [
            "<class 'pandas.core.frame.DataFrame'>\n",
            "RangeIndex: 30844 entries, 0 to 30843\n",
            "Data columns (total 17 columns):\n",
            " #   Column        Non-Null Count  Dtype  \n",
            "---  ------        --------------  -----  \n",
            " 0   city          30844 non-null  object \n",
            " 1   city_ascii    30844 non-null  object \n",
            " 2   state_id      30844 non-null  object \n",
            " 3   state_name    30844 non-null  object \n",
            " 4   county_fips   30844 non-null  int64  \n",
            " 5   county_name   30844 non-null  object \n",
            " 6   lat           30844 non-null  float64\n",
            " 7   lng           30844 non-null  float64\n",
            " 8   population    30844 non-null  int64  \n",
            " 9   density       30844 non-null  float64\n",
            " 10  source        30844 non-null  object \n",
            " 11  military      30844 non-null  bool   \n",
            " 12  incorporated  30844 non-null  bool   \n",
            " 13  timezone      30844 non-null  object \n",
            " 14  ranking       30844 non-null  int64  \n",
            " 15  zips          30842 non-null  object \n",
            " 16  id            30844 non-null  int64  \n",
            "dtypes: bool(2), float64(3), int64(4), object(8)\n",
            "memory usage: 3.6+ MB\n"
          ]
        }
      ]
    },
    {
      "cell_type": "markdown",
      "source": [
        "Rename of the 'city' column from being lower case to capitalised so it can match the same column in the sales_df"
      ],
      "metadata": {
        "id": "y4GdGubQjd-8"
      }
    },
    {
      "cell_type": "code",
      "source": [
        "cities_df = cities_df.rename(columns={'city': 'City', 'state_name': 'State', 'population': 'Population'})"
      ],
      "metadata": {
        "id": "5SCTPhvTh6yx"
      },
      "execution_count": 11,
      "outputs": []
    },
    {
      "cell_type": "markdown",
      "source": [
        "merging of two dataframes"
      ],
      "metadata": {
        "id": "w5WSDb9jlOz5"
      }
    },
    {
      "cell_type": "code",
      "source": [
        "merged_df = sales_df.merge(cities_df[['City', 'State', 'Population']], on=['City', 'State'], how='left')"
      ],
      "metadata": {
        "id": "ois2gsWRj_dD"
      },
      "execution_count": 12,
      "outputs": []
    },
    {
      "cell_type": "code",
      "source": [
        "merged_df.head()"
      ],
      "metadata": {
        "colab": {
          "base_uri": "https://localhost:8080/",
          "height": 201
        },
        "id": "mseBh6uvlTfr",
        "outputId": "e4b3bc1b-a01d-4c26-db28-6f10f21a1553"
      },
      "execution_count": 13,
      "outputs": [
        {
          "output_type": "execute_result",
          "data": {
            "text/plain": [
              "        Ship Mode    Segment        Country             City       State  \\\n",
              "0    Second Class   Consumer  United States        Henderson    Kentucky   \n",
              "1    Second Class   Consumer  United States        Henderson    Kentucky   \n",
              "2    Second Class  Corporate  United States      Los Angeles  California   \n",
              "3  Standard Class   Consumer  United States  Fort Lauderdale     Florida   \n",
              "4  Standard Class   Consumer  United States  Fort Lauderdale     Florida   \n",
              "\n",
              "   Postal Code Region         Category Sub-Category     Sales  Quantity  \\\n",
              "0        42420  South        Furniture    Bookcases  261.9600         2   \n",
              "1        42420  South        Furniture       Chairs  731.9400         3   \n",
              "2        90036   West  Office Supplies       Labels   14.6200         2   \n",
              "3        33311  South        Furniture       Tables  957.5775         5   \n",
              "4        33311  South  Office Supplies      Storage   22.3680         2   \n",
              "\n",
              "   Discount    Profit  Population  \n",
              "0      0.00   41.9136     28201.0  \n",
              "1      0.00  219.5820     28201.0  \n",
              "2      0.00    6.8714  12121244.0  \n",
              "3      0.45 -383.0310    182247.0  \n",
              "4      0.20    2.5164    182247.0  "
            ],
            "text/html": [
              "\n",
              "  <div id=\"df-c00e9247-c702-4c6b-8ccf-c7fdd804c566\">\n",
              "    <div class=\"colab-df-container\">\n",
              "      <div>\n",
              "<style scoped>\n",
              "    .dataframe tbody tr th:only-of-type {\n",
              "        vertical-align: middle;\n",
              "    }\n",
              "\n",
              "    .dataframe tbody tr th {\n",
              "        vertical-align: top;\n",
              "    }\n",
              "\n",
              "    .dataframe thead th {\n",
              "        text-align: right;\n",
              "    }\n",
              "</style>\n",
              "<table border=\"1\" class=\"dataframe\">\n",
              "  <thead>\n",
              "    <tr style=\"text-align: right;\">\n",
              "      <th></th>\n",
              "      <th>Ship Mode</th>\n",
              "      <th>Segment</th>\n",
              "      <th>Country</th>\n",
              "      <th>City</th>\n",
              "      <th>State</th>\n",
              "      <th>Postal Code</th>\n",
              "      <th>Region</th>\n",
              "      <th>Category</th>\n",
              "      <th>Sub-Category</th>\n",
              "      <th>Sales</th>\n",
              "      <th>Quantity</th>\n",
              "      <th>Discount</th>\n",
              "      <th>Profit</th>\n",
              "      <th>Population</th>\n",
              "    </tr>\n",
              "  </thead>\n",
              "  <tbody>\n",
              "    <tr>\n",
              "      <th>0</th>\n",
              "      <td>Second Class</td>\n",
              "      <td>Consumer</td>\n",
              "      <td>United States</td>\n",
              "      <td>Henderson</td>\n",
              "      <td>Kentucky</td>\n",
              "      <td>42420</td>\n",
              "      <td>South</td>\n",
              "      <td>Furniture</td>\n",
              "      <td>Bookcases</td>\n",
              "      <td>261.9600</td>\n",
              "      <td>2</td>\n",
              "      <td>0.00</td>\n",
              "      <td>41.9136</td>\n",
              "      <td>28201.0</td>\n",
              "    </tr>\n",
              "    <tr>\n",
              "      <th>1</th>\n",
              "      <td>Second Class</td>\n",
              "      <td>Consumer</td>\n",
              "      <td>United States</td>\n",
              "      <td>Henderson</td>\n",
              "      <td>Kentucky</td>\n",
              "      <td>42420</td>\n",
              "      <td>South</td>\n",
              "      <td>Furniture</td>\n",
              "      <td>Chairs</td>\n",
              "      <td>731.9400</td>\n",
              "      <td>3</td>\n",
              "      <td>0.00</td>\n",
              "      <td>219.5820</td>\n",
              "      <td>28201.0</td>\n",
              "    </tr>\n",
              "    <tr>\n",
              "      <th>2</th>\n",
              "      <td>Second Class</td>\n",
              "      <td>Corporate</td>\n",
              "      <td>United States</td>\n",
              "      <td>Los Angeles</td>\n",
              "      <td>California</td>\n",
              "      <td>90036</td>\n",
              "      <td>West</td>\n",
              "      <td>Office Supplies</td>\n",
              "      <td>Labels</td>\n",
              "      <td>14.6200</td>\n",
              "      <td>2</td>\n",
              "      <td>0.00</td>\n",
              "      <td>6.8714</td>\n",
              "      <td>12121244.0</td>\n",
              "    </tr>\n",
              "    <tr>\n",
              "      <th>3</th>\n",
              "      <td>Standard Class</td>\n",
              "      <td>Consumer</td>\n",
              "      <td>United States</td>\n",
              "      <td>Fort Lauderdale</td>\n",
              "      <td>Florida</td>\n",
              "      <td>33311</td>\n",
              "      <td>South</td>\n",
              "      <td>Furniture</td>\n",
              "      <td>Tables</td>\n",
              "      <td>957.5775</td>\n",
              "      <td>5</td>\n",
              "      <td>0.45</td>\n",
              "      <td>-383.0310</td>\n",
              "      <td>182247.0</td>\n",
              "    </tr>\n",
              "    <tr>\n",
              "      <th>4</th>\n",
              "      <td>Standard Class</td>\n",
              "      <td>Consumer</td>\n",
              "      <td>United States</td>\n",
              "      <td>Fort Lauderdale</td>\n",
              "      <td>Florida</td>\n",
              "      <td>33311</td>\n",
              "      <td>South</td>\n",
              "      <td>Office Supplies</td>\n",
              "      <td>Storage</td>\n",
              "      <td>22.3680</td>\n",
              "      <td>2</td>\n",
              "      <td>0.20</td>\n",
              "      <td>2.5164</td>\n",
              "      <td>182247.0</td>\n",
              "    </tr>\n",
              "  </tbody>\n",
              "</table>\n",
              "</div>\n",
              "      <button class=\"colab-df-convert\" onclick=\"convertToInteractive('df-c00e9247-c702-4c6b-8ccf-c7fdd804c566')\"\n",
              "              title=\"Convert this dataframe to an interactive table.\"\n",
              "              style=\"display:none;\">\n",
              "        \n",
              "  <svg xmlns=\"http://www.w3.org/2000/svg\" height=\"24px\"viewBox=\"0 0 24 24\"\n",
              "       width=\"24px\">\n",
              "    <path d=\"M0 0h24v24H0V0z\" fill=\"none\"/>\n",
              "    <path d=\"M18.56 5.44l.94 2.06.94-2.06 2.06-.94-2.06-.94-.94-2.06-.94 2.06-2.06.94zm-11 1L8.5 8.5l.94-2.06 2.06-.94-2.06-.94L8.5 2.5l-.94 2.06-2.06.94zm10 10l.94 2.06.94-2.06 2.06-.94-2.06-.94-.94-2.06-.94 2.06-2.06.94z\"/><path d=\"M17.41 7.96l-1.37-1.37c-.4-.4-.92-.59-1.43-.59-.52 0-1.04.2-1.43.59L10.3 9.45l-7.72 7.72c-.78.78-.78 2.05 0 2.83L4 21.41c.39.39.9.59 1.41.59.51 0 1.02-.2 1.41-.59l7.78-7.78 2.81-2.81c.8-.78.8-2.07 0-2.86zM5.41 20L4 18.59l7.72-7.72 1.47 1.35L5.41 20z\"/>\n",
              "  </svg>\n",
              "      </button>\n",
              "      \n",
              "  <style>\n",
              "    .colab-df-container {\n",
              "      display:flex;\n",
              "      flex-wrap:wrap;\n",
              "      gap: 12px;\n",
              "    }\n",
              "\n",
              "    .colab-df-convert {\n",
              "      background-color: #E8F0FE;\n",
              "      border: none;\n",
              "      border-radius: 50%;\n",
              "      cursor: pointer;\n",
              "      display: none;\n",
              "      fill: #1967D2;\n",
              "      height: 32px;\n",
              "      padding: 0 0 0 0;\n",
              "      width: 32px;\n",
              "    }\n",
              "\n",
              "    .colab-df-convert:hover {\n",
              "      background-color: #E2EBFA;\n",
              "      box-shadow: 0px 1px 2px rgba(60, 64, 67, 0.3), 0px 1px 3px 1px rgba(60, 64, 67, 0.15);\n",
              "      fill: #174EA6;\n",
              "    }\n",
              "\n",
              "    [theme=dark] .colab-df-convert {\n",
              "      background-color: #3B4455;\n",
              "      fill: #D2E3FC;\n",
              "    }\n",
              "\n",
              "    [theme=dark] .colab-df-convert:hover {\n",
              "      background-color: #434B5C;\n",
              "      box-shadow: 0px 1px 3px 1px rgba(0, 0, 0, 0.15);\n",
              "      filter: drop-shadow(0px 1px 2px rgba(0, 0, 0, 0.3));\n",
              "      fill: #FFFFFF;\n",
              "    }\n",
              "  </style>\n",
              "\n",
              "      <script>\n",
              "        const buttonEl =\n",
              "          document.querySelector('#df-c00e9247-c702-4c6b-8ccf-c7fdd804c566 button.colab-df-convert');\n",
              "        buttonEl.style.display =\n",
              "          google.colab.kernel.accessAllowed ? 'block' : 'none';\n",
              "\n",
              "        async function convertToInteractive(key) {\n",
              "          const element = document.querySelector('#df-c00e9247-c702-4c6b-8ccf-c7fdd804c566');\n",
              "          const dataTable =\n",
              "            await google.colab.kernel.invokeFunction('convertToInteractive',\n",
              "                                                     [key], {});\n",
              "          if (!dataTable) return;\n",
              "\n",
              "          const docLinkHtml = 'Like what you see? Visit the ' +\n",
              "            '<a target=\"_blank\" href=https://colab.research.google.com/notebooks/data_table.ipynb>data table notebook</a>'\n",
              "            + ' to learn more about interactive tables.';\n",
              "          element.innerHTML = '';\n",
              "          dataTable['output_type'] = 'display_data';\n",
              "          await google.colab.output.renderOutput(dataTable, element);\n",
              "          const docLink = document.createElement('div');\n",
              "          docLink.innerHTML = docLinkHtml;\n",
              "          element.appendChild(docLink);\n",
              "        }\n",
              "      </script>\n",
              "    </div>\n",
              "  </div>\n",
              "  "
            ]
          },
          "metadata": {},
          "execution_count": 13
        }
      ]
    },
    {
      "cell_type": "code",
      "source": [
        "merged_df = merged_df.reindex(columns=['Ship Mode', 'Segment', 'Country', 'City', 'State', 'Population', 'Postal Code',\t'Region',\t'Category',\t'Sub-Category',\t'Sales',\t'Quantity',\t'Discount',\t'Profit',\t'City_State'])\n"
      ],
      "metadata": {
        "id": "gbjazNgWmH8D"
      },
      "execution_count": 14,
      "outputs": []
    },
    {
      "cell_type": "code",
      "source": [
        "merged_df.head()"
      ],
      "metadata": {
        "colab": {
          "base_uri": "https://localhost:8080/",
          "height": 201
        },
        "id": "cX9yaE87meMM",
        "outputId": "e651e673-7eef-41ca-d601-a7da38bbca44"
      },
      "execution_count": 15,
      "outputs": [
        {
          "output_type": "execute_result",
          "data": {
            "text/plain": [
              "        Ship Mode    Segment        Country             City       State  \\\n",
              "0    Second Class   Consumer  United States        Henderson    Kentucky   \n",
              "1    Second Class   Consumer  United States        Henderson    Kentucky   \n",
              "2    Second Class  Corporate  United States      Los Angeles  California   \n",
              "3  Standard Class   Consumer  United States  Fort Lauderdale     Florida   \n",
              "4  Standard Class   Consumer  United States  Fort Lauderdale     Florida   \n",
              "\n",
              "   Population  Postal Code Region         Category Sub-Category     Sales  \\\n",
              "0     28201.0        42420  South        Furniture    Bookcases  261.9600   \n",
              "1     28201.0        42420  South        Furniture       Chairs  731.9400   \n",
              "2  12121244.0        90036   West  Office Supplies       Labels   14.6200   \n",
              "3    182247.0        33311  South        Furniture       Tables  957.5775   \n",
              "4    182247.0        33311  South  Office Supplies      Storage   22.3680   \n",
              "\n",
              "   Quantity  Discount    Profit  City_State  \n",
              "0         2      0.00   41.9136         NaN  \n",
              "1         3      0.00  219.5820         NaN  \n",
              "2         2      0.00    6.8714         NaN  \n",
              "3         5      0.45 -383.0310         NaN  \n",
              "4         2      0.20    2.5164         NaN  "
            ],
            "text/html": [
              "\n",
              "  <div id=\"df-2c90876c-bbee-4653-8f2d-4e49267a6bc9\">\n",
              "    <div class=\"colab-df-container\">\n",
              "      <div>\n",
              "<style scoped>\n",
              "    .dataframe tbody tr th:only-of-type {\n",
              "        vertical-align: middle;\n",
              "    }\n",
              "\n",
              "    .dataframe tbody tr th {\n",
              "        vertical-align: top;\n",
              "    }\n",
              "\n",
              "    .dataframe thead th {\n",
              "        text-align: right;\n",
              "    }\n",
              "</style>\n",
              "<table border=\"1\" class=\"dataframe\">\n",
              "  <thead>\n",
              "    <tr style=\"text-align: right;\">\n",
              "      <th></th>\n",
              "      <th>Ship Mode</th>\n",
              "      <th>Segment</th>\n",
              "      <th>Country</th>\n",
              "      <th>City</th>\n",
              "      <th>State</th>\n",
              "      <th>Population</th>\n",
              "      <th>Postal Code</th>\n",
              "      <th>Region</th>\n",
              "      <th>Category</th>\n",
              "      <th>Sub-Category</th>\n",
              "      <th>Sales</th>\n",
              "      <th>Quantity</th>\n",
              "      <th>Discount</th>\n",
              "      <th>Profit</th>\n",
              "      <th>City_State</th>\n",
              "    </tr>\n",
              "  </thead>\n",
              "  <tbody>\n",
              "    <tr>\n",
              "      <th>0</th>\n",
              "      <td>Second Class</td>\n",
              "      <td>Consumer</td>\n",
              "      <td>United States</td>\n",
              "      <td>Henderson</td>\n",
              "      <td>Kentucky</td>\n",
              "      <td>28201.0</td>\n",
              "      <td>42420</td>\n",
              "      <td>South</td>\n",
              "      <td>Furniture</td>\n",
              "      <td>Bookcases</td>\n",
              "      <td>261.9600</td>\n",
              "      <td>2</td>\n",
              "      <td>0.00</td>\n",
              "      <td>41.9136</td>\n",
              "      <td>NaN</td>\n",
              "    </tr>\n",
              "    <tr>\n",
              "      <th>1</th>\n",
              "      <td>Second Class</td>\n",
              "      <td>Consumer</td>\n",
              "      <td>United States</td>\n",
              "      <td>Henderson</td>\n",
              "      <td>Kentucky</td>\n",
              "      <td>28201.0</td>\n",
              "      <td>42420</td>\n",
              "      <td>South</td>\n",
              "      <td>Furniture</td>\n",
              "      <td>Chairs</td>\n",
              "      <td>731.9400</td>\n",
              "      <td>3</td>\n",
              "      <td>0.00</td>\n",
              "      <td>219.5820</td>\n",
              "      <td>NaN</td>\n",
              "    </tr>\n",
              "    <tr>\n",
              "      <th>2</th>\n",
              "      <td>Second Class</td>\n",
              "      <td>Corporate</td>\n",
              "      <td>United States</td>\n",
              "      <td>Los Angeles</td>\n",
              "      <td>California</td>\n",
              "      <td>12121244.0</td>\n",
              "      <td>90036</td>\n",
              "      <td>West</td>\n",
              "      <td>Office Supplies</td>\n",
              "      <td>Labels</td>\n",
              "      <td>14.6200</td>\n",
              "      <td>2</td>\n",
              "      <td>0.00</td>\n",
              "      <td>6.8714</td>\n",
              "      <td>NaN</td>\n",
              "    </tr>\n",
              "    <tr>\n",
              "      <th>3</th>\n",
              "      <td>Standard Class</td>\n",
              "      <td>Consumer</td>\n",
              "      <td>United States</td>\n",
              "      <td>Fort Lauderdale</td>\n",
              "      <td>Florida</td>\n",
              "      <td>182247.0</td>\n",
              "      <td>33311</td>\n",
              "      <td>South</td>\n",
              "      <td>Furniture</td>\n",
              "      <td>Tables</td>\n",
              "      <td>957.5775</td>\n",
              "      <td>5</td>\n",
              "      <td>0.45</td>\n",
              "      <td>-383.0310</td>\n",
              "      <td>NaN</td>\n",
              "    </tr>\n",
              "    <tr>\n",
              "      <th>4</th>\n",
              "      <td>Standard Class</td>\n",
              "      <td>Consumer</td>\n",
              "      <td>United States</td>\n",
              "      <td>Fort Lauderdale</td>\n",
              "      <td>Florida</td>\n",
              "      <td>182247.0</td>\n",
              "      <td>33311</td>\n",
              "      <td>South</td>\n",
              "      <td>Office Supplies</td>\n",
              "      <td>Storage</td>\n",
              "      <td>22.3680</td>\n",
              "      <td>2</td>\n",
              "      <td>0.20</td>\n",
              "      <td>2.5164</td>\n",
              "      <td>NaN</td>\n",
              "    </tr>\n",
              "  </tbody>\n",
              "</table>\n",
              "</div>\n",
              "      <button class=\"colab-df-convert\" onclick=\"convertToInteractive('df-2c90876c-bbee-4653-8f2d-4e49267a6bc9')\"\n",
              "              title=\"Convert this dataframe to an interactive table.\"\n",
              "              style=\"display:none;\">\n",
              "        \n",
              "  <svg xmlns=\"http://www.w3.org/2000/svg\" height=\"24px\"viewBox=\"0 0 24 24\"\n",
              "       width=\"24px\">\n",
              "    <path d=\"M0 0h24v24H0V0z\" fill=\"none\"/>\n",
              "    <path d=\"M18.56 5.44l.94 2.06.94-2.06 2.06-.94-2.06-.94-.94-2.06-.94 2.06-2.06.94zm-11 1L8.5 8.5l.94-2.06 2.06-.94-2.06-.94L8.5 2.5l-.94 2.06-2.06.94zm10 10l.94 2.06.94-2.06 2.06-.94-2.06-.94-.94-2.06-.94 2.06-2.06.94z\"/><path d=\"M17.41 7.96l-1.37-1.37c-.4-.4-.92-.59-1.43-.59-.52 0-1.04.2-1.43.59L10.3 9.45l-7.72 7.72c-.78.78-.78 2.05 0 2.83L4 21.41c.39.39.9.59 1.41.59.51 0 1.02-.2 1.41-.59l7.78-7.78 2.81-2.81c.8-.78.8-2.07 0-2.86zM5.41 20L4 18.59l7.72-7.72 1.47 1.35L5.41 20z\"/>\n",
              "  </svg>\n",
              "      </button>\n",
              "      \n",
              "  <style>\n",
              "    .colab-df-container {\n",
              "      display:flex;\n",
              "      flex-wrap:wrap;\n",
              "      gap: 12px;\n",
              "    }\n",
              "\n",
              "    .colab-df-convert {\n",
              "      background-color: #E8F0FE;\n",
              "      border: none;\n",
              "      border-radius: 50%;\n",
              "      cursor: pointer;\n",
              "      display: none;\n",
              "      fill: #1967D2;\n",
              "      height: 32px;\n",
              "      padding: 0 0 0 0;\n",
              "      width: 32px;\n",
              "    }\n",
              "\n",
              "    .colab-df-convert:hover {\n",
              "      background-color: #E2EBFA;\n",
              "      box-shadow: 0px 1px 2px rgba(60, 64, 67, 0.3), 0px 1px 3px 1px rgba(60, 64, 67, 0.15);\n",
              "      fill: #174EA6;\n",
              "    }\n",
              "\n",
              "    [theme=dark] .colab-df-convert {\n",
              "      background-color: #3B4455;\n",
              "      fill: #D2E3FC;\n",
              "    }\n",
              "\n",
              "    [theme=dark] .colab-df-convert:hover {\n",
              "      background-color: #434B5C;\n",
              "      box-shadow: 0px 1px 3px 1px rgba(0, 0, 0, 0.15);\n",
              "      filter: drop-shadow(0px 1px 2px rgba(0, 0, 0, 0.3));\n",
              "      fill: #FFFFFF;\n",
              "    }\n",
              "  </style>\n",
              "\n",
              "      <script>\n",
              "        const buttonEl =\n",
              "          document.querySelector('#df-2c90876c-bbee-4653-8f2d-4e49267a6bc9 button.colab-df-convert');\n",
              "        buttonEl.style.display =\n",
              "          google.colab.kernel.accessAllowed ? 'block' : 'none';\n",
              "\n",
              "        async function convertToInteractive(key) {\n",
              "          const element = document.querySelector('#df-2c90876c-bbee-4653-8f2d-4e49267a6bc9');\n",
              "          const dataTable =\n",
              "            await google.colab.kernel.invokeFunction('convertToInteractive',\n",
              "                                                     [key], {});\n",
              "          if (!dataTable) return;\n",
              "\n",
              "          const docLinkHtml = 'Like what you see? Visit the ' +\n",
              "            '<a target=\"_blank\" href=https://colab.research.google.com/notebooks/data_table.ipynb>data table notebook</a>'\n",
              "            + ' to learn more about interactive tables.';\n",
              "          element.innerHTML = '';\n",
              "          dataTable['output_type'] = 'display_data';\n",
              "          await google.colab.output.renderOutput(dataTable, element);\n",
              "          const docLink = document.createElement('div');\n",
              "          docLink.innerHTML = docLinkHtml;\n",
              "          element.appendChild(docLink);\n",
              "        }\n",
              "      </script>\n",
              "    </div>\n",
              "  </div>\n",
              "  "
            ]
          },
          "metadata": {},
          "execution_count": 15
        }
      ]
    },
    {
      "cell_type": "markdown",
      "source": [
        "find any null entries"
      ],
      "metadata": {
        "id": "-j7JACxstjEl"
      }
    },
    {
      "cell_type": "code",
      "source": [
        "null_populations = merged_df['Population'].isnull().sum()\n",
        "print(f\"Number of null Populations: {null_populations}\")\n"
      ],
      "metadata": {
        "colab": {
          "base_uri": "https://localhost:8080/"
        },
        "id": "n3D_ikc9o9GD",
        "outputId": "71add967-e66e-4ac6-ee30-be4f7fae03a8"
      },
      "execution_count": 16,
      "outputs": [
        {
          "output_type": "stream",
          "name": "stdout",
          "text": [
            "Number of null Populations: 1085\n"
          ]
        }
      ]
    },
    {
      "cell_type": "code",
      "source": [
        "merged_df = merged_df.dropna(subset=['Population'])\n",
        "merged_df.info()"
      ],
      "metadata": {
        "colab": {
          "base_uri": "https://localhost:8080/"
        },
        "id": "vjyriNxspTbK",
        "outputId": "e84b6336-1d73-484b-ca24-c849bdd15b22"
      },
      "execution_count": 17,
      "outputs": [
        {
          "output_type": "stream",
          "name": "stdout",
          "text": [
            "<class 'pandas.core.frame.DataFrame'>\n",
            "Int64Index: 8909 entries, 0 to 9993\n",
            "Data columns (total 15 columns):\n",
            " #   Column        Non-Null Count  Dtype  \n",
            "---  ------        --------------  -----  \n",
            " 0   Ship Mode     8909 non-null   object \n",
            " 1   Segment       8909 non-null   object \n",
            " 2   Country       8909 non-null   object \n",
            " 3   City          8909 non-null   object \n",
            " 4   State         8909 non-null   object \n",
            " 5   Population    8909 non-null   float64\n",
            " 6   Postal Code   8909 non-null   int64  \n",
            " 7   Region        8909 non-null   object \n",
            " 8   Category      8909 non-null   object \n",
            " 9   Sub-Category  8909 non-null   object \n",
            " 10  Sales         8909 non-null   float64\n",
            " 11  Quantity      8909 non-null   int64  \n",
            " 12  Discount      8909 non-null   float64\n",
            " 13  Profit        8909 non-null   float64\n",
            " 14  City_State    0 non-null      float64\n",
            "dtypes: float64(5), int64(2), object(8)\n",
            "memory usage: 1.1+ MB\n"
          ]
        }
      ]
    },
    {
      "cell_type": "code",
      "source": [
        "import pandas as pd\n",
        "\n",
        "city_sales_count = merged_df.groupby(['City', 'State'])['Population'].count().reset_index()\n",
        "city_sales_count.columns = ['City', 'State', 'Sales_Count']\n",
        "\n",
        "city_population = merged_df.groupby(['City', 'State'])['Population'].mean().reset_index()\n",
        "city_population.columns = ['City', 'State', 'Population']\n",
        "\n",
        "result = pd.merge(city_sales_count, city_population, on=['City', 'State'])\n",
        "result['Sales_Per_Capita'] = result['Sales_Count'] / result['Population']\n",
        "\n",
        "state_sales = result.groupby('State')[['Sales_Count', 'Population']].sum().reset_index()\n",
        "state_sales['Sales_Per_Capita'] = state_sales['Sales_Count'] / state_sales['Population']\n",
        "\n",
        "print(state_sales.sort_values('Sales_Per_Capita', ascending=False))\n"
      ],
      "metadata": {
        "colab": {
          "base_uri": "https://localhost:8080/"
        },
        "id": "FlSzmWYnQNxb",
        "outputId": "12c529c2-fcd2-48bd-d640-874cf0ecb4e9"
      },
      "execution_count": 26,
      "outputs": [
        {
          "output_type": "stream",
          "name": "stdout",
          "text": [
            "                   State  Sales_Count  Population  Sales_Per_Capita\n",
            "6               Delaware           96    228250.0          0.000421\n",
            "17                 Maine            8     68535.0          0.000117\n",
            "19         Massachusetts          114    993704.0          0.000115\n",
            "15              Kentucky          139   1342366.0          0.000104\n",
            "43               Vermont           11    115682.0          0.000095\n",
            "45            Washington          506   5459609.0          0.000093\n",
            "23              Missouri           56    656822.0          0.000085\n",
            "28            New Jersey           88   1090807.0          0.000081\n",
            "36          Pennsylvania          587   7375308.0          0.000080\n",
            "30              New York          202   2568373.0          0.000079\n",
            "22           Mississippi           53    697627.0          0.000076\n",
            "27         New Hampshire           27    369408.0          0.000073\n",
            "33                  Ohio          469   7041288.0          0.000067\n",
            "16             Louisiana           42    651098.0          0.000065\n",
            "44              Virginia          224   3821357.0          0.000059\n",
            "5            Connecticut           46    788631.0          0.000058\n",
            "3             California         2001  37513290.0          0.000053\n",
            "46         West Virginia            4     75065.0          0.000053\n",
            "12               Indiana          149   2803609.0          0.000053\n",
            "2               Arkansas           60   1250823.0          0.000048\n",
            "31        North Carolina          249   5629396.0          0.000044\n",
            "11              Illinois          486  10995349.0          0.000044\n",
            "40             Tennessee          183   4140527.0          0.000044\n",
            "0                Alabama           61   1395167.0          0.000044\n",
            "20              Michigan          252   5860762.0          0.000043\n",
            "41                 Texas          966  23004274.0          0.000042\n",
            "25              Nebraska           38    911449.0          0.000042\n",
            "24               Montana           15    363582.0          0.000041\n",
            "35                Oregon          124   3127991.0          0.000040\n",
            "39          South Dakota           12    305834.0          0.000039\n",
            "18              Maryland          105   2710065.0          0.000039\n",
            "38        South Carolina           42   1098263.0          0.000038\n",
            "37          Rhode Island           56   1478513.0          0.000038\n",
            "47             Wisconsin          110   2907616.0          0.000038\n",
            "4               Colorado          182   4977616.0          0.000037\n",
            "32          North Dakota            7    207310.0          0.000034\n",
            "1                Arizona          224   7282262.0          0.000031\n",
            "34              Oklahoma           66   2170746.0          0.000030\n",
            "29            New Mexico           37   1225660.0          0.000030\n",
            "9                Georgia          184   6152487.0          0.000030\n",
            "10                 Idaho           21    756310.0          0.000028\n",
            "13                  Iowa           30   1120113.0          0.000027\n",
            "14                Kansas           24    910320.0          0.000026\n",
            "21             Minnesota           84   3495165.0          0.000024\n",
            "8                Florida          366  15798319.0          0.000023\n",
            "42                  Utah           53   2298245.0          0.000023\n",
            "48               Wyoming            1     76456.0          0.000013\n",
            "26                Nevada           39   3291489.0          0.000012\n",
            "7   District of Columbia           10   4810669.0          0.000002\n"
          ]
        }
      ]
    },
    {
      "cell_type": "code",
      "source": [
        "import plotly.express as px\n",
        "\n",
        "state_abbr = {\n",
        "'Alabama': 'AL', 'Alaska': 'AK', 'Arizona': 'AZ', 'Arkansas': 'AR', 'California': 'CA', 'Colorado': 'CO', 'Connecticut': 'CT', 'Delaware': 'DE', 'Florida': 'FL', 'Georgia': 'GA',\n",
        "'Hawaii': 'HI', 'Idaho': 'ID', 'Illinois': 'IL', 'Indiana': 'IN', 'Iowa': 'IA', 'Kansas': 'KS', 'Kentucky': 'KY', 'Louisiana': 'LA', 'Maine': 'ME', 'Maryland': 'MD',\n",
        "'Massachusetts': 'MA', 'Michigan': 'MI', 'Minnesota': 'MN', 'Mississippi': 'MS', 'Missouri': 'MO', 'Montana': 'MT', 'Nebraska': 'NE', 'Nevada': 'NV', 'New Hampshire': 'NH', 'New Jersey': 'NJ',\n",
        "'New Mexico': 'NM', 'New York': 'NY', 'North Carolina': 'NC', 'North Dakota': 'ND', 'Ohio': 'OH', 'Oklahoma': 'OK', 'Oregon': 'OR', 'Pennsylvania': 'PA', 'Rhode Island': 'RI', 'South Carolina': 'SC',\n",
        "'South Dakota': 'SD', 'Tennessee': 'TN', 'Texas': 'TX', 'Utah': 'UT', 'Vermont': 'VT', 'Virginia': 'VA', 'Washington': 'WA', 'West Virginia': 'WV', 'Wisconsin': 'WI', 'Wyoming': 'WY'\n",
        "}\n",
        "state_sales['state_abbr'] = state_sales['State'].map(state_abbr)\n",
        "\n",
        "fig = px.choropleth(state_sales, \n",
        "                    locations='state_abbr', \n",
        "                    locationmode='USA-states', \n",
        "                    color='Sales_Per_Capita',\n",
        "                    scope='usa',\n",
        "                    range_color=[0.000002, 0.000421],\n",
        "                    color_continuous_scale='Picnic',\n",
        "                    title='Sales per Capita by State')\n",
        "fig.show()\n"
      ],
      "metadata": {
        "colab": {
          "base_uri": "https://localhost:8080/",
          "height": 542
        },
        "id": "VWQ6TBsYNAff",
        "outputId": "b3f02259-432b-454d-90a6-4b5224d88aab"
      },
      "execution_count": 34,
      "outputs": [
        {
          "output_type": "display_data",
          "data": {
            "text/html": [
              "<html>\n",
              "<head><meta charset=\"utf-8\" /></head>\n",
              "<body>\n",
              "    <div>            <script src=\"https://cdnjs.cloudflare.com/ajax/libs/mathjax/2.7.5/MathJax.js?config=TeX-AMS-MML_SVG\"></script><script type=\"text/javascript\">if (window.MathJax && window.MathJax.Hub && window.MathJax.Hub.Config) {window.MathJax.Hub.Config({SVG: {font: \"STIX-Web\"}});}</script>                <script type=\"text/javascript\">window.PlotlyConfig = {MathJaxConfig: 'local'};</script>\n",
              "        <script src=\"https://cdn.plot.ly/plotly-2.18.2.min.js\"></script>                <div id=\"7c7d2b37-032e-4819-97c4-07571ca4ef55\" class=\"plotly-graph-div\" style=\"height:525px; width:100%;\"></div>            <script type=\"text/javascript\">                                    window.PLOTLYENV=window.PLOTLYENV || {};                                    if (document.getElementById(\"7c7d2b37-032e-4819-97c4-07571ca4ef55\")) {                    Plotly.newPlot(                        \"7c7d2b37-032e-4819-97c4-07571ca4ef55\",                        [{\"coloraxis\":\"coloraxis\",\"geo\":\"geo\",\"hovertemplate\":\"state_abbr=%{location}<br>Sales_Per_Capita=%{z}<extra></extra>\",\"locationmode\":\"USA-states\",\"locations\":[\"AL\",\"AZ\",\"AR\",\"CA\",\"CO\",\"CT\",\"DE\",null,\"FL\",\"GA\",\"ID\",\"IL\",\"IN\",\"IA\",\"KS\",\"KY\",\"LA\",\"ME\",\"MD\",\"MA\",\"MI\",\"MN\",\"MS\",\"MO\",\"MT\",\"NE\",\"NV\",\"NH\",\"NJ\",\"NM\",\"NY\",\"NC\",\"ND\",\"OH\",\"OK\",\"OR\",\"PA\",\"RI\",\"SC\",\"SD\",\"TN\",\"TX\",\"UT\",\"VT\",\"VA\",\"WA\",\"WV\",\"WI\",\"WY\"],\"name\":\"\",\"z\":[4.37223644194566e-05,3.075967329931277e-05,4.796841759385621e-05,5.334109591560751e-05,3.6563688319870396e-05,5.83289269633073e-05,0.00042059145673603506,2.0787129607129486e-06,2.3167021757188218e-05,2.99066052476015e-05,2.7766392087900465e-05,4.4200506959806366e-05,5.314578459407143e-05,2.678301207110354e-05,2.6364355391510678e-05,0.00010354851061483976,6.450641838862967e-05,0.00011672867877726708,3.874445815875265e-05,0.00011472229154758359,4.299782178494878e-05,2.4033200149349173e-05,7.59718302187272e-05,8.52590199475657e-05,4.125616779708567e-05,4.1691855496028853e-05,1.1848740797857748e-05,7.308991683991684e-05,8.067421642875413e-05,3.0187817176052087e-05,7.864901242926942e-05,4.423209878999452e-05,3.3765857893975205e-05,6.660713210424002e-05,3.04042941919506e-05,3.964205779364455e-05,7.958989644907033e-05,3.787589287344785e-05,3.824220610181714e-05,3.9236971690524926e-05,4.419727247280358e-05,4.199219675439442e-05,2.3061074863645958e-05,9.508825919330578e-05,5.8617920283292034e-05,9.268062969344508e-05,5.3287151135682406e-05,3.783168066209568e-05,1.3079418227477242e-05],\"type\":\"choropleth\"}],                        {\"template\":{\"data\":{\"histogram2dcontour\":[{\"type\":\"histogram2dcontour\",\"colorbar\":{\"outlinewidth\":0,\"ticks\":\"\"},\"colorscale\":[[0.0,\"#0d0887\"],[0.1111111111111111,\"#46039f\"],[0.2222222222222222,\"#7201a8\"],[0.3333333333333333,\"#9c179e\"],[0.4444444444444444,\"#bd3786\"],[0.5555555555555556,\"#d8576b\"],[0.6666666666666666,\"#ed7953\"],[0.7777777777777778,\"#fb9f3a\"],[0.8888888888888888,\"#fdca26\"],[1.0,\"#f0f921\"]]}],\"choropleth\":[{\"type\":\"choropleth\",\"colorbar\":{\"outlinewidth\":0,\"ticks\":\"\"}}],\"histogram2d\":[{\"type\":\"histogram2d\",\"colorbar\":{\"outlinewidth\":0,\"ticks\":\"\"},\"colorscale\":[[0.0,\"#0d0887\"],[0.1111111111111111,\"#46039f\"],[0.2222222222222222,\"#7201a8\"],[0.3333333333333333,\"#9c179e\"],[0.4444444444444444,\"#bd3786\"],[0.5555555555555556,\"#d8576b\"],[0.6666666666666666,\"#ed7953\"],[0.7777777777777778,\"#fb9f3a\"],[0.8888888888888888,\"#fdca26\"],[1.0,\"#f0f921\"]]}],\"heatmap\":[{\"type\":\"heatmap\",\"colorbar\":{\"outlinewidth\":0,\"ticks\":\"\"},\"colorscale\":[[0.0,\"#0d0887\"],[0.1111111111111111,\"#46039f\"],[0.2222222222222222,\"#7201a8\"],[0.3333333333333333,\"#9c179e\"],[0.4444444444444444,\"#bd3786\"],[0.5555555555555556,\"#d8576b\"],[0.6666666666666666,\"#ed7953\"],[0.7777777777777778,\"#fb9f3a\"],[0.8888888888888888,\"#fdca26\"],[1.0,\"#f0f921\"]]}],\"heatmapgl\":[{\"type\":\"heatmapgl\",\"colorbar\":{\"outlinewidth\":0,\"ticks\":\"\"},\"colorscale\":[[0.0,\"#0d0887\"],[0.1111111111111111,\"#46039f\"],[0.2222222222222222,\"#7201a8\"],[0.3333333333333333,\"#9c179e\"],[0.4444444444444444,\"#bd3786\"],[0.5555555555555556,\"#d8576b\"],[0.6666666666666666,\"#ed7953\"],[0.7777777777777778,\"#fb9f3a\"],[0.8888888888888888,\"#fdca26\"],[1.0,\"#f0f921\"]]}],\"contourcarpet\":[{\"type\":\"contourcarpet\",\"colorbar\":{\"outlinewidth\":0,\"ticks\":\"\"}}],\"contour\":[{\"type\":\"contour\",\"colorbar\":{\"outlinewidth\":0,\"ticks\":\"\"},\"colorscale\":[[0.0,\"#0d0887\"],[0.1111111111111111,\"#46039f\"],[0.2222222222222222,\"#7201a8\"],[0.3333333333333333,\"#9c179e\"],[0.4444444444444444,\"#bd3786\"],[0.5555555555555556,\"#d8576b\"],[0.6666666666666666,\"#ed7953\"],[0.7777777777777778,\"#fb9f3a\"],[0.8888888888888888,\"#fdca26\"],[1.0,\"#f0f921\"]]}],\"surface\":[{\"type\":\"surface\",\"colorbar\":{\"outlinewidth\":0,\"ticks\":\"\"},\"colorscale\":[[0.0,\"#0d0887\"],[0.1111111111111111,\"#46039f\"],[0.2222222222222222,\"#7201a8\"],[0.3333333333333333,\"#9c179e\"],[0.4444444444444444,\"#bd3786\"],[0.5555555555555556,\"#d8576b\"],[0.6666666666666666,\"#ed7953\"],[0.7777777777777778,\"#fb9f3a\"],[0.8888888888888888,\"#fdca26\"],[1.0,\"#f0f921\"]]}],\"mesh3d\":[{\"type\":\"mesh3d\",\"colorbar\":{\"outlinewidth\":0,\"ticks\":\"\"}}],\"scatter\":[{\"fillpattern\":{\"fillmode\":\"overlay\",\"size\":10,\"solidity\":0.2},\"type\":\"scatter\"}],\"parcoords\":[{\"type\":\"parcoords\",\"line\":{\"colorbar\":{\"outlinewidth\":0,\"ticks\":\"\"}}}],\"scatterpolargl\":[{\"type\":\"scatterpolargl\",\"marker\":{\"colorbar\":{\"outlinewidth\":0,\"ticks\":\"\"}}}],\"bar\":[{\"error_x\":{\"color\":\"#2a3f5f\"},\"error_y\":{\"color\":\"#2a3f5f\"},\"marker\":{\"line\":{\"color\":\"#E5ECF6\",\"width\":0.5},\"pattern\":{\"fillmode\":\"overlay\",\"size\":10,\"solidity\":0.2}},\"type\":\"bar\"}],\"scattergeo\":[{\"type\":\"scattergeo\",\"marker\":{\"colorbar\":{\"outlinewidth\":0,\"ticks\":\"\"}}}],\"scatterpolar\":[{\"type\":\"scatterpolar\",\"marker\":{\"colorbar\":{\"outlinewidth\":0,\"ticks\":\"\"}}}],\"histogram\":[{\"marker\":{\"pattern\":{\"fillmode\":\"overlay\",\"size\":10,\"solidity\":0.2}},\"type\":\"histogram\"}],\"scattergl\":[{\"type\":\"scattergl\",\"marker\":{\"colorbar\":{\"outlinewidth\":0,\"ticks\":\"\"}}}],\"scatter3d\":[{\"type\":\"scatter3d\",\"line\":{\"colorbar\":{\"outlinewidth\":0,\"ticks\":\"\"}},\"marker\":{\"colorbar\":{\"outlinewidth\":0,\"ticks\":\"\"}}}],\"scattermapbox\":[{\"type\":\"scattermapbox\",\"marker\":{\"colorbar\":{\"outlinewidth\":0,\"ticks\":\"\"}}}],\"scatterternary\":[{\"type\":\"scatterternary\",\"marker\":{\"colorbar\":{\"outlinewidth\":0,\"ticks\":\"\"}}}],\"scattercarpet\":[{\"type\":\"scattercarpet\",\"marker\":{\"colorbar\":{\"outlinewidth\":0,\"ticks\":\"\"}}}],\"carpet\":[{\"aaxis\":{\"endlinecolor\":\"#2a3f5f\",\"gridcolor\":\"white\",\"linecolor\":\"white\",\"minorgridcolor\":\"white\",\"startlinecolor\":\"#2a3f5f\"},\"baxis\":{\"endlinecolor\":\"#2a3f5f\",\"gridcolor\":\"white\",\"linecolor\":\"white\",\"minorgridcolor\":\"white\",\"startlinecolor\":\"#2a3f5f\"},\"type\":\"carpet\"}],\"table\":[{\"cells\":{\"fill\":{\"color\":\"#EBF0F8\"},\"line\":{\"color\":\"white\"}},\"header\":{\"fill\":{\"color\":\"#C8D4E3\"},\"line\":{\"color\":\"white\"}},\"type\":\"table\"}],\"barpolar\":[{\"marker\":{\"line\":{\"color\":\"#E5ECF6\",\"width\":0.5},\"pattern\":{\"fillmode\":\"overlay\",\"size\":10,\"solidity\":0.2}},\"type\":\"barpolar\"}],\"pie\":[{\"automargin\":true,\"type\":\"pie\"}]},\"layout\":{\"autotypenumbers\":\"strict\",\"colorway\":[\"#636efa\",\"#EF553B\",\"#00cc96\",\"#ab63fa\",\"#FFA15A\",\"#19d3f3\",\"#FF6692\",\"#B6E880\",\"#FF97FF\",\"#FECB52\"],\"font\":{\"color\":\"#2a3f5f\"},\"hovermode\":\"closest\",\"hoverlabel\":{\"align\":\"left\"},\"paper_bgcolor\":\"white\",\"plot_bgcolor\":\"#E5ECF6\",\"polar\":{\"bgcolor\":\"#E5ECF6\",\"angularaxis\":{\"gridcolor\":\"white\",\"linecolor\":\"white\",\"ticks\":\"\"},\"radialaxis\":{\"gridcolor\":\"white\",\"linecolor\":\"white\",\"ticks\":\"\"}},\"ternary\":{\"bgcolor\":\"#E5ECF6\",\"aaxis\":{\"gridcolor\":\"white\",\"linecolor\":\"white\",\"ticks\":\"\"},\"baxis\":{\"gridcolor\":\"white\",\"linecolor\":\"white\",\"ticks\":\"\"},\"caxis\":{\"gridcolor\":\"white\",\"linecolor\":\"white\",\"ticks\":\"\"}},\"coloraxis\":{\"colorbar\":{\"outlinewidth\":0,\"ticks\":\"\"}},\"colorscale\":{\"sequential\":[[0.0,\"#0d0887\"],[0.1111111111111111,\"#46039f\"],[0.2222222222222222,\"#7201a8\"],[0.3333333333333333,\"#9c179e\"],[0.4444444444444444,\"#bd3786\"],[0.5555555555555556,\"#d8576b\"],[0.6666666666666666,\"#ed7953\"],[0.7777777777777778,\"#fb9f3a\"],[0.8888888888888888,\"#fdca26\"],[1.0,\"#f0f921\"]],\"sequentialminus\":[[0.0,\"#0d0887\"],[0.1111111111111111,\"#46039f\"],[0.2222222222222222,\"#7201a8\"],[0.3333333333333333,\"#9c179e\"],[0.4444444444444444,\"#bd3786\"],[0.5555555555555556,\"#d8576b\"],[0.6666666666666666,\"#ed7953\"],[0.7777777777777778,\"#fb9f3a\"],[0.8888888888888888,\"#fdca26\"],[1.0,\"#f0f921\"]],\"diverging\":[[0,\"#8e0152\"],[0.1,\"#c51b7d\"],[0.2,\"#de77ae\"],[0.3,\"#f1b6da\"],[0.4,\"#fde0ef\"],[0.5,\"#f7f7f7\"],[0.6,\"#e6f5d0\"],[0.7,\"#b8e186\"],[0.8,\"#7fbc41\"],[0.9,\"#4d9221\"],[1,\"#276419\"]]},\"xaxis\":{\"gridcolor\":\"white\",\"linecolor\":\"white\",\"ticks\":\"\",\"title\":{\"standoff\":15},\"zerolinecolor\":\"white\",\"automargin\":true,\"zerolinewidth\":2},\"yaxis\":{\"gridcolor\":\"white\",\"linecolor\":\"white\",\"ticks\":\"\",\"title\":{\"standoff\":15},\"zerolinecolor\":\"white\",\"automargin\":true,\"zerolinewidth\":2},\"scene\":{\"xaxis\":{\"backgroundcolor\":\"#E5ECF6\",\"gridcolor\":\"white\",\"linecolor\":\"white\",\"showbackground\":true,\"ticks\":\"\",\"zerolinecolor\":\"white\",\"gridwidth\":2},\"yaxis\":{\"backgroundcolor\":\"#E5ECF6\",\"gridcolor\":\"white\",\"linecolor\":\"white\",\"showbackground\":true,\"ticks\":\"\",\"zerolinecolor\":\"white\",\"gridwidth\":2},\"zaxis\":{\"backgroundcolor\":\"#E5ECF6\",\"gridcolor\":\"white\",\"linecolor\":\"white\",\"showbackground\":true,\"ticks\":\"\",\"zerolinecolor\":\"white\",\"gridwidth\":2}},\"shapedefaults\":{\"line\":{\"color\":\"#2a3f5f\"}},\"annotationdefaults\":{\"arrowcolor\":\"#2a3f5f\",\"arrowhead\":0,\"arrowwidth\":1},\"geo\":{\"bgcolor\":\"white\",\"landcolor\":\"#E5ECF6\",\"subunitcolor\":\"white\",\"showland\":true,\"showlakes\":true,\"lakecolor\":\"white\"},\"title\":{\"x\":0.05},\"mapbox\":{\"style\":\"light\"}}},\"geo\":{\"domain\":{\"x\":[0.0,1.0],\"y\":[0.0,1.0]},\"center\":{},\"scope\":\"usa\"},\"coloraxis\":{\"colorbar\":{\"title\":{\"text\":\"Sales_Per_Capita\"}},\"colorscale\":[[0.0,\"rgb(0,0,255)\"],[0.1,\"rgb(51,153,255)\"],[0.2,\"rgb(102,204,255)\"],[0.3,\"rgb(153,204,255)\"],[0.4,\"rgb(204,204,255)\"],[0.5,\"rgb(255,255,255)\"],[0.6,\"rgb(255,204,255)\"],[0.7,\"rgb(255,153,255)\"],[0.8,\"rgb(255,102,204)\"],[0.9,\"rgb(255,102,102)\"],[1.0,\"rgb(255,0,0)\"]],\"cmin\":2e-06,\"cmax\":0.000421},\"legend\":{\"tracegroupgap\":0},\"title\":{\"text\":\"Sales per Capita by State\"}},                        {\"responsive\": true}                    ).then(function(){\n",
              "                            \n",
              "var gd = document.getElementById('7c7d2b37-032e-4819-97c4-07571ca4ef55');\n",
              "var x = new MutationObserver(function (mutations, observer) {{\n",
              "        var display = window.getComputedStyle(gd).display;\n",
              "        if (!display || display === 'none') {{\n",
              "            console.log([gd, 'removed!']);\n",
              "            Plotly.purge(gd);\n",
              "            observer.disconnect();\n",
              "        }}\n",
              "}});\n",
              "\n",
              "// Listen for the removal of the full notebook cells\n",
              "var notebookContainer = gd.closest('#notebook-container');\n",
              "if (notebookContainer) {{\n",
              "    x.observe(notebookContainer, {childList: true});\n",
              "}}\n",
              "\n",
              "// Listen for the clearing of the current output cell\n",
              "var outputEl = gd.closest('.output');\n",
              "if (outputEl) {{\n",
              "    x.observe(outputEl, {childList: true});\n",
              "}}\n",
              "\n",
              "                        })                };                            </script>        </div>\n",
              "</body>\n",
              "</html>"
            ]
          },
          "metadata": {}
        }
      ]
    }
  ]
}